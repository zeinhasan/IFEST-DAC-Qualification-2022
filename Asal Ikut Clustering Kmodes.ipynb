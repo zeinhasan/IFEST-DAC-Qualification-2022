{
 "cells": [
  {
   "cell_type": "code",
   "execution_count": 8,
   "id": "41ede9d3",
   "metadata": {},
   "outputs": [],
   "source": [
    "import pandas as pd\n",
    "import matplotlib.pyplot as plt\n",
    "import numpy as np\n",
    "import seaborn as sns\n",
    "from kmodes.kmodes import KModes"
   ]
  },
  {
   "cell_type": "code",
   "execution_count": 3,
   "id": "691de5c0",
   "metadata": {},
   "outputs": [
    {
     "name": "stdout",
     "output_type": "stream",
     "text": [
      "Categorical columns           : ['Status_Kerja', 'Biaya', 'UKM', 'Organisasi_Kampus', 'Fakultas']\n",
      "Categorical columns position  : [0, 1, 2, 3, 5]\n"
     ]
    },
    {
     "data": {
      "text/plain": [
       "array([['Belum', 'Beasiswa', 'UKM_3', 'Ya', 3.5, 'DKV'],\n",
       "       ['Belum', 'Others', 'UKM_2', 'Tidak', 4.0, 'FIKOM'],\n",
       "       ['Bekerja', 'Beasiswa', 'UKM_4', 'Tidak', 4.5, 'FIKOM'],\n",
       "       ...,\n",
       "       ['Bekerja', 'Beasiswa', 'UKM_2', 'Ya', 5.0, 'FT'],\n",
       "       ['Bekerja', 'Others', 'UKM_4', 'Tidak', 4.5, 'DKV'],\n",
       "       ['Belum', 'Others', 'UKM_2', 'Ya', 4.5, 'FIKOM']], dtype=object)"
      ]
     },
     "execution_count": 3,
     "metadata": {},
     "output_type": "execute_result"
    }
   ],
   "source": [
    "df = pd.read_csv('Data - Kualifikasi.csv', delimiter = \";\", decimal = \",\")\n",
    "df.fillna(\"Others\", inplace=True)\n",
    "df2=df.drop(columns=['Nama', 'Gender','Alamat','Tinggal_Dengan',\"Tgl_Daftar_Kuliah\"])\n",
    "dfMatrix = df2.to_numpy()\n",
    "dfMatrix"
   ]
  },
  {
   "cell_type": "code",
   "execution_count": 9,
   "id": "c2fefdd4",
   "metadata": {},
   "outputs": [
    {
     "name": "stdout",
     "output_type": "stream",
     "text": [
      "Best run was number 1\n",
      "Best run was number 6\n",
      "Best run was number 2\n",
      "Best run was number 3\n",
      "Best run was number 4\n",
      "Best run was number 2\n",
      "Best run was number 5\n",
      "Best run was number 3\n",
      "Best run was number 4\n"
     ]
    }
   ],
   "source": [
    "# Choose optimal K using Elbow method\n",
    "cost = []\n",
    "for cluster in range(1, 10):\n",
    "    kmode = KModes(n_clusters=cluster, init = \"huang\", n_init = 10, verbose=1, n_jobs=-1)\n",
    "    kmode.fit_predict(dfMatrix)\n",
    "    cost.append(kmode.cost_)\n",
    "# Converting the results into a dataframe and plotting them\n",
    "df_cost = pd.DataFrame({'Cluster':range(1, 10), 'Cost_KModes':cost})"
   ]
  },
  {
   "cell_type": "code",
   "execution_count": 24,
   "id": "c974b4eb",
   "metadata": {},
   "outputs": [
    {
     "data": {
      "text/html": [
       "<div>\n",
       "<style scoped>\n",
       "    .dataframe tbody tr th:only-of-type {\n",
       "        vertical-align: middle;\n",
       "    }\n",
       "\n",
       "    .dataframe tbody tr th {\n",
       "        vertical-align: top;\n",
       "    }\n",
       "\n",
       "    .dataframe thead th {\n",
       "        text-align: right;\n",
       "    }\n",
       "</style>\n",
       "<table border=\"1\" class=\"dataframe\">\n",
       "  <thead>\n",
       "    <tr style=\"text-align: right;\">\n",
       "      <th></th>\n",
       "      <th>Cluster</th>\n",
       "      <th>Cost_KModes</th>\n",
       "      <th>Cost_KPrototype</th>\n",
       "    </tr>\n",
       "  </thead>\n",
       "  <tbody>\n",
       "    <tr>\n",
       "      <th>0</th>\n",
       "      <td>1</td>\n",
       "      <td>47334.0</td>\n",
       "      <td>36360.864799</td>\n",
       "    </tr>\n",
       "    <tr>\n",
       "      <th>1</th>\n",
       "      <td>2</td>\n",
       "      <td>38582.0</td>\n",
       "      <td>24647.300941</td>\n",
       "    </tr>\n",
       "    <tr>\n",
       "      <th>2</th>\n",
       "      <td>3</td>\n",
       "      <td>35616.0</td>\n",
       "      <td>21799.828391</td>\n",
       "    </tr>\n",
       "    <tr>\n",
       "      <th>3</th>\n",
       "      <td>4</td>\n",
       "      <td>33920.0</td>\n",
       "      <td>20106.629689</td>\n",
       "    </tr>\n",
       "    <tr>\n",
       "      <th>4</th>\n",
       "      <td>5</td>\n",
       "      <td>32347.0</td>\n",
       "      <td>18821.887521</td>\n",
       "    </tr>\n",
       "    <tr>\n",
       "      <th>5</th>\n",
       "      <td>6</td>\n",
       "      <td>31073.0</td>\n",
       "      <td>17873.017229</td>\n",
       "    </tr>\n",
       "    <tr>\n",
       "      <th>6</th>\n",
       "      <td>7</td>\n",
       "      <td>29833.0</td>\n",
       "      <td>17314.548304</td>\n",
       "    </tr>\n",
       "    <tr>\n",
       "      <th>7</th>\n",
       "      <td>8</td>\n",
       "      <td>29052.0</td>\n",
       "      <td>16810.541464</td>\n",
       "    </tr>\n",
       "    <tr>\n",
       "      <th>8</th>\n",
       "      <td>9</td>\n",
       "      <td>28169.0</td>\n",
       "      <td>16224.750865</td>\n",
       "    </tr>\n",
       "  </tbody>\n",
       "</table>\n",
       "</div>"
      ],
      "text/plain": [
       "   Cluster  Cost_KModes  Cost_KPrototype\n",
       "0        1      47334.0     36360.864799\n",
       "1        2      38582.0     24647.300941\n",
       "2        3      35616.0     21799.828391\n",
       "3        4      33920.0     20106.629689\n",
       "4        5      32347.0     18821.887521\n",
       "5        6      31073.0     17873.017229\n",
       "6        7      29833.0     17314.548304\n",
       "7        8      29052.0     16810.541464\n",
       "8        9      28169.0     16224.750865"
      ]
     },
     "execution_count": 24,
     "metadata": {},
     "output_type": "execute_result"
    }
   ],
   "source": [
    "kprototype_cost = [36360.864799, 24647.300941, 21799.828391, 20106.629689, 18821.887521, \n",
    "                   17873.017229, 17314.548304, 16810.541464, 16224.750865]\n",
    "df_cost.rename(columns = {\"Cost\" : \"Cost_KModes\"}, inplace = True)\n",
    "df_cost[\"Cost_KPrototype\"] = kprototype_cost\n",
    "df_cost"
   ]
  },
  {
   "cell_type": "code",
   "execution_count": 36,
   "id": "2ec0ecb4",
   "metadata": {},
   "outputs": [
    {
     "data": {
      "text/plain": [
       "Text(0.5, 0, 'Banyaknya Cluster')"
      ]
     },
     "execution_count": 36,
     "metadata": {},
     "output_type": "execute_result"
    },
    {
     "data": {
      "image/png": "[encoded data removed]",
      "text/plain": [
       "<Figure size 432x288 with 1 Axes>"
      ]
     },
     "metadata": {
      "needs_background": "light"
     },
     "output_type": "display_data"
    }
   ],
   "source": [
    "df_melted = df_cost.melt(id_vars = \"Cluster\")\n",
    "sns.lineplot(data = df_melted, x = \"Cluster\", y = \"value\", hue = \"variable\", marker = \"o\")\n",
    "plt.legend(title = \"\", labels = [\"K-Modes\", \"K-Prototypes\"])\n",
    "plt.title(\"Perbandingan Cost K-Modes dan K-Prototypes\", fontsize = \"large\", fontweight = \"medium\")\n",
    "plt.ylabel(\"Cost\")\n",
    "plt.xlabel(\"Banyaknya Cluster\")"
   ]
  },
  {
   "cell_type": "code",
   "execution_count": 37,
   "id": "15598123",
   "metadata": {},
   "outputs": [
    {
     "name": "stdout",
     "output_type": "stream",
     "text": [
      "Best run was number 4\n"
     ]
    },
    {
     "ename": "AttributeError",
     "evalue": "'KModes' object has no attribute 'centroids_'",
     "output_type": "error",
     "traceback": [
      "\u001b[1;31m---------------------------------------------------------------------------\u001b[0m",
      "\u001b[1;31mAttributeError\u001b[0m                            Traceback (most recent call last)",
      "Input \u001b[1;32mIn [37]\u001b[0m, in \u001b[0;36m<cell line: 3>\u001b[1;34m()\u001b[0m\n\u001b[0;32m      1\u001b[0m kmode \u001b[38;5;241m=\u001b[39m KModes(n_clusters\u001b[38;5;241m=\u001b[39m\u001b[38;5;241m3\u001b[39m, init \u001b[38;5;241m=\u001b[39m \u001b[38;5;124m\"\u001b[39m\u001b[38;5;124mhuang\u001b[39m\u001b[38;5;124m\"\u001b[39m, n_init \u001b[38;5;241m=\u001b[39m \u001b[38;5;241m10\u001b[39m, verbose\u001b[38;5;241m=\u001b[39m\u001b[38;5;241m1\u001b[39m, n_jobs\u001b[38;5;241m=\u001b[39m\u001b[38;5;241m-\u001b[39m\u001b[38;5;241m1\u001b[39m)\n\u001b[0;32m      2\u001b[0m kmode\u001b[38;5;241m.\u001b[39mfit_predict(dfMatrix)\n\u001b[1;32m----> 3\u001b[0m \u001b[43mkmode\u001b[49m\u001b[38;5;241;43m.\u001b[39;49m\u001b[43mcentroids_\u001b[49m\n",
      "\u001b[1;31mAttributeError\u001b[0m: 'KModes' object has no attribute 'centroids_'"
     ]
    }
   ],
   "source": [
    "kmode = KModes(n_clusters=3, init = \"huang\", n_init = 10, verbose=1, n_jobs=-1)\n",
    "kmode.fit_predict(dfMatrix)"
   ]
  },
  {
   "cell_type": "code",
   "execution_count": 38,
   "id": "007ff62f",
   "metadata": {},
   "outputs": [
    {
     "data": {
      "text/plain": [
       "array([['Belum', 'Others', 'UKM_1', 'Ya', '5.5', 'DKV'],\n",
       "       ['Belum', 'Beasiswa', 'UKM_4', 'Ya', '4.5', 'FIKOM'],\n",
       "       ['Bekerja', 'Orang Tua', 'Tidak', 'Tidak', '4.5', 'FT']],\n",
       "      dtype='<U32')"
      ]
     },
     "execution_count": 38,
     "metadata": {},
     "output_type": "execute_result"
    }
   ],
   "source": [
    "kmode.cluster_centroids_"
   ]
  },
  {
   "cell_type": "code",
   "execution_count": null,
   "id": "eb7b823d",
   "metadata": {},
   "outputs": [],
   "source": []
  }
 ],
 "metadata": {
  "kernelspec": {
   "display_name": "Python 3 (ipykernel)",
   "language": "python",
   "name": "python3"
  },
  "language_info": {
   "codemirror_mode": {
    "name": "ipython",
    "version": 3
   },
   "file_extension": ".py",
   "mimetype": "text/x-python",
   "name": "python",
   "nbconvert_exporter": "python",
   "pygments_lexer": "ipython3",
   "version": "3.9.10"
  }
 },
 "nbformat": 4,
 "nbformat_minor": 5
}
