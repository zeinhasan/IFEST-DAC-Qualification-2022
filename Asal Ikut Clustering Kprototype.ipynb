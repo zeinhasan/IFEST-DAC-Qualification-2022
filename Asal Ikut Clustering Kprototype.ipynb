{
 "cells": [
  {
   "cell_type": "markdown",
   "id": "vQaM-CbV4nX8",
   "metadata": {
    "id": "vQaM-CbV4nX8"
   },
   "source": [
    "# Data"
   ]
  },
  {
   "cell_type": "code",
   "execution_count": 1,
   "id": "AhsKMLkAO2DU",
   "metadata": {
    "colab": {
     "base_uri": "https://localhost:8080/"
    },
    "executionInfo": {
     "elapsed": 3846,
     "status": "ok",
     "timestamp": 1662649325936,
     "user": {
      "displayName": "Ahmad Habib Hasan Zein",
      "userId": "06743622963259718983"
     },
     "user_tz": -420
    },
    "id": "AhsKMLkAO2DU",
    "outputId": "fa4f3aa7-fa87-4dcc-8791-2a6bca3bc2c2"
   },
   "outputs": [
    {
     "name": "stdout",
     "output_type": "stream",
     "text": [
      "Requirement already satisfied: kmodes in c:\\users\\hasan zein\\appdata\\local\\programs\\python\\python39\\lib\\site-packages (0.12.2)\n",
      "Requirement already satisfied: numpy>=1.10.4 in c:\\users\\hasan zein\\appdata\\local\\programs\\python\\python39\\lib\\site-packages (from kmodes) (1.22.3)\n",
      "Requirement already satisfied: scikit-learn>=0.22.0 in c:\\users\\hasan zein\\appdata\\local\\programs\\python\\python39\\lib\\site-packages (from kmodes) (1.1.0)\n",
      "Requirement already satisfied: scipy>=0.13.3 in c:\\users\\hasan zein\\appdata\\local\\programs\\python\\python39\\lib\\site-packages (from kmodes) (1.8.0)\n",
      "Requirement already satisfied: joblib>=0.11 in c:\\users\\hasan zein\\appdata\\local\\programs\\python\\python39\\lib\\site-packages (from kmodes) (1.1.0)\n",
      "Requirement already satisfied: threadpoolctl>=2.0.0 in c:\\users\\hasan zein\\appdata\\local\\programs\\python\\python39\\lib\\site-packages (from scikit-learn>=0.22.0->kmodes) (3.1.0)\n",
      "\n",
      "[notice] A new release of pip available: 22.1.2 -> 22.2.2\n",
      "[notice] To update, run: python.exe -m pip install --upgrade pip\n",
      "Note: you may need to restart the kernel to use updated packages.\n"
     ]
    }
   ],
   "source": [
    "pip install kmodes"
   ]
  },
  {
   "cell_type": "code",
   "execution_count": 2,
   "id": "e7ea5d36-0207-48f0-9269-1c08a6d39013",
   "metadata": {
    "executionInfo": {
     "elapsed": 957,
     "status": "ok",
     "timestamp": 1662649326889,
     "user": {
      "displayName": "Ahmad Habib Hasan Zein",
      "userId": "06743622963259718983"
     },
     "user_tz": -420
    },
    "id": "e7ea5d36-0207-48f0-9269-1c08a6d39013"
   },
   "outputs": [],
   "source": [
    "# Import library\n",
    "import pandas as pd\n",
    "import missingno as msno\n",
    "import matplotlib.pyplot as plt\n",
    "import numpy as np\n",
    "from kmodes.kprototypes import KPrototypes"
   ]
  },
  {
   "cell_type": "code",
   "execution_count": 3,
   "id": "5e5a3879-33f6-462b-8477-6aff4d618f45",
   "metadata": {
    "executionInfo": {
     "elapsed": 22,
     "status": "ok",
     "timestamp": 1662649326890,
     "user": {
      "displayName": "Ahmad Habib Hasan Zein",
      "userId": "06743622963259718983"
     },
     "user_tz": -420
    },
    "id": "5e5a3879-33f6-462b-8477-6aff4d618f45"
   },
   "outputs": [],
   "source": [
    "path = \"C:\\\\Users\\\\Hasan Zein\\\\IFest Unpad\\\\Data - Kualifikasi.csv\""
   ]
  },
  {
   "cell_type": "code",
   "execution_count": 4,
   "id": "fa1fa38d-7ae1-4b57-b360-26f17a436c03",
   "metadata": {
    "executionInfo": {
     "elapsed": 22,
     "status": "ok",
     "timestamp": 1662649326891,
     "user": {
      "displayName": "Ahmad Habib Hasan Zein",
      "userId": "06743622963259718983"
     },
     "user_tz": -420
    },
    "id": "fa1fa38d-7ae1-4b57-b360-26f17a436c03"
   },
   "outputs": [],
   "source": [
    "df = pd.read_csv(path,sep=\";\")"
   ]
  },
  {
   "cell_type": "code",
   "execution_count": 5,
   "id": "8a5a9d47-6027-4656-a5a1-4667766e4853",
   "metadata": {
    "colab": {
     "base_uri": "https://localhost:8080/",
     "height": 467
    },
    "executionInfo": {
     "elapsed": 21,
     "status": "ok",
     "timestamp": 1662649326891,
     "user": {
      "displayName": "Ahmad Habib Hasan Zein",
      "userId": "06743622963259718983"
     },
     "user_tz": -420
    },
    "id": "8a5a9d47-6027-4656-a5a1-4667766e4853",
    "outputId": "98594732-9c96-4bad-a81b-968cea0df16e"
   },
   "outputs": [
    {
     "data": {
      "text/html": [
       "<div>\n",
       "<style scoped>\n",
       "    .dataframe tbody tr th:only-of-type {\n",
       "        vertical-align: middle;\n",
       "    }\n",
       "\n",
       "    .dataframe tbody tr th {\n",
       "        vertical-align: top;\n",
       "    }\n",
       "\n",
       "    .dataframe thead th {\n",
       "        text-align: right;\n",
       "    }\n",
       "</style>\n",
       "<table border=\"1\" class=\"dataframe\">\n",
       "  <thead>\n",
       "    <tr style=\"text-align: right;\">\n",
       "      <th></th>\n",
       "      <th>Nama</th>\n",
       "      <th>Gender</th>\n",
       "      <th>Tinggal_Dengan</th>\n",
       "      <th>Status_Kerja</th>\n",
       "      <th>Biaya</th>\n",
       "      <th>Tgl_Daftar_Kuliah</th>\n",
       "      <th>Alamat</th>\n",
       "      <th>UKM</th>\n",
       "      <th>Organisasi_Kampus</th>\n",
       "      <th>Lama_Kuliah</th>\n",
       "      <th>Fakultas</th>\n",
       "    </tr>\n",
       "  </thead>\n",
       "  <tbody>\n",
       "    <tr>\n",
       "      <th>0</th>\n",
       "      <td>Abbey Butler</td>\n",
       "      <td>Pria</td>\n",
       "      <td>Kos</td>\n",
       "      <td>Belum</td>\n",
       "      <td>Beasiswa</td>\n",
       "      <td>2008</td>\n",
       "      <td>Tangerang</td>\n",
       "      <td>UKM_3</td>\n",
       "      <td>Ya</td>\n",
       "      <td>3,5</td>\n",
       "      <td>DKV</td>\n",
       "    </tr>\n",
       "    <tr>\n",
       "      <th>1</th>\n",
       "      <td>Abbey Carpenter</td>\n",
       "      <td>Wanita</td>\n",
       "      <td>NaN</td>\n",
       "      <td>Belum</td>\n",
       "      <td>NaN</td>\n",
       "      <td>2009</td>\n",
       "      <td>Bekasi</td>\n",
       "      <td>UKM_2</td>\n",
       "      <td>Tidak</td>\n",
       "      <td>4</td>\n",
       "      <td>FIKOM</td>\n",
       "    </tr>\n",
       "    <tr>\n",
       "      <th>2</th>\n",
       "      <td>Abbey Dubois</td>\n",
       "      <td>Wanita</td>\n",
       "      <td>NaN</td>\n",
       "      <td>Bekerja</td>\n",
       "      <td>Beasiswa</td>\n",
       "      <td>2008</td>\n",
       "      <td>Serang</td>\n",
       "      <td>UKM_4</td>\n",
       "      <td>Tidak</td>\n",
       "      <td>4,5</td>\n",
       "      <td>FIKOM</td>\n",
       "    </tr>\n",
       "    <tr>\n",
       "      <th>3</th>\n",
       "      <td>Abbey Gosling</td>\n",
       "      <td>Wanita</td>\n",
       "      <td>Orang Tua</td>\n",
       "      <td>Belum</td>\n",
       "      <td>Beasiswa</td>\n",
       "      <td>2009</td>\n",
       "      <td>Serang</td>\n",
       "      <td>UKM_1</td>\n",
       "      <td>Tidak</td>\n",
       "      <td>5,5</td>\n",
       "      <td>DKV</td>\n",
       "    </tr>\n",
       "    <tr>\n",
       "      <th>4</th>\n",
       "      <td>Abbey Logan</td>\n",
       "      <td>Wanita</td>\n",
       "      <td>Orang Tua</td>\n",
       "      <td>Bekerja</td>\n",
       "      <td>NaN</td>\n",
       "      <td>2009</td>\n",
       "      <td>Bekasi</td>\n",
       "      <td>Tidak</td>\n",
       "      <td>Ya</td>\n",
       "      <td>6,5</td>\n",
       "      <td>DKV</td>\n",
       "    </tr>\n",
       "    <tr>\n",
       "      <th>...</th>\n",
       "      <td>...</td>\n",
       "      <td>...</td>\n",
       "      <td>...</td>\n",
       "      <td>...</td>\n",
       "      <td>...</td>\n",
       "      <td>...</td>\n",
       "      <td>...</td>\n",
       "      <td>...</td>\n",
       "      <td>...</td>\n",
       "      <td>...</td>\n",
       "      <td>...</td>\n",
       "    </tr>\n",
       "    <tr>\n",
       "      <th>11494</th>\n",
       "      <td>Carter Downing</td>\n",
       "      <td>Pria</td>\n",
       "      <td>Orang Tua</td>\n",
       "      <td>Belum</td>\n",
       "      <td>Orang Tua</td>\n",
       "      <td>2009</td>\n",
       "      <td>Tangerang</td>\n",
       "      <td>UKM_3</td>\n",
       "      <td>Ya</td>\n",
       "      <td>4,5</td>\n",
       "      <td>FIKOM</td>\n",
       "    </tr>\n",
       "    <tr>\n",
       "      <th>11495</th>\n",
       "      <td>Carter Driscoll</td>\n",
       "      <td>Wanita</td>\n",
       "      <td>NaN</td>\n",
       "      <td>Bekerja</td>\n",
       "      <td>Beasiswa</td>\n",
       "      <td>2008</td>\n",
       "      <td>Karawang</td>\n",
       "      <td>Tidak</td>\n",
       "      <td>Tidak</td>\n",
       "      <td>3,5</td>\n",
       "      <td>DKV</td>\n",
       "    </tr>\n",
       "    <tr>\n",
       "      <th>11496</th>\n",
       "      <td>Carter Drummond</td>\n",
       "      <td>Wanita</td>\n",
       "      <td>Kos</td>\n",
       "      <td>Bekerja</td>\n",
       "      <td>Beasiswa</td>\n",
       "      <td>2007</td>\n",
       "      <td>Bogor</td>\n",
       "      <td>UKM_2</td>\n",
       "      <td>Ya</td>\n",
       "      <td>5</td>\n",
       "      <td>FT</td>\n",
       "    </tr>\n",
       "    <tr>\n",
       "      <th>11497</th>\n",
       "      <td>Carter Dubois</td>\n",
       "      <td>Wanita</td>\n",
       "      <td>Kos</td>\n",
       "      <td>Bekerja</td>\n",
       "      <td>NaN</td>\n",
       "      <td>2007</td>\n",
       "      <td>Karawang</td>\n",
       "      <td>UKM_4</td>\n",
       "      <td>Tidak</td>\n",
       "      <td>4,5</td>\n",
       "      <td>DKV</td>\n",
       "    </tr>\n",
       "    <tr>\n",
       "      <th>11498</th>\n",
       "      <td>Carter Edley</td>\n",
       "      <td>Wanita</td>\n",
       "      <td>Kos</td>\n",
       "      <td>Belum</td>\n",
       "      <td>NaN</td>\n",
       "      <td>2008</td>\n",
       "      <td>Bekasi</td>\n",
       "      <td>UKM_2</td>\n",
       "      <td>Ya</td>\n",
       "      <td>4,5</td>\n",
       "      <td>FIKOM</td>\n",
       "    </tr>\n",
       "  </tbody>\n",
       "</table>\n",
       "<p>11499 rows × 11 columns</p>\n",
       "</div>"
      ],
      "text/plain": [
       "                  Nama  Gender Tinggal_Dengan Status_Kerja      Biaya  \\\n",
       "0         Abbey Butler    Pria            Kos        Belum   Beasiswa   \n",
       "1      Abbey Carpenter  Wanita            NaN        Belum        NaN   \n",
       "2         Abbey Dubois  Wanita            NaN      Bekerja   Beasiswa   \n",
       "3        Abbey Gosling  Wanita      Orang Tua        Belum   Beasiswa   \n",
       "4          Abbey Logan  Wanita      Orang Tua      Bekerja        NaN   \n",
       "...                ...     ...            ...          ...        ...   \n",
       "11494   Carter Downing    Pria      Orang Tua        Belum  Orang Tua   \n",
       "11495  Carter Driscoll  Wanita            NaN      Bekerja   Beasiswa   \n",
       "11496  Carter Drummond  Wanita            Kos      Bekerja   Beasiswa   \n",
       "11497    Carter Dubois  Wanita            Kos      Bekerja        NaN   \n",
       "11498     Carter Edley  Wanita            Kos        Belum        NaN   \n",
       "\n",
       "       Tgl_Daftar_Kuliah     Alamat    UKM Organisasi_Kampus Lama_Kuliah  \\\n",
       "0                   2008  Tangerang  UKM_3                Ya         3,5   \n",
       "1                   2009     Bekasi  UKM_2             Tidak           4   \n",
       "2                   2008     Serang  UKM_4             Tidak         4,5   \n",
       "3                   2009     Serang  UKM_1             Tidak         5,5   \n",
       "4                   2009     Bekasi  Tidak                Ya         6,5   \n",
       "...                  ...        ...    ...               ...         ...   \n",
       "11494               2009  Tangerang  UKM_3                Ya         4,5   \n",
       "11495               2008   Karawang  Tidak             Tidak         3,5   \n",
       "11496               2007      Bogor  UKM_2                Ya           5   \n",
       "11497               2007   Karawang  UKM_4             Tidak         4,5   \n",
       "11498               2008     Bekasi  UKM_2                Ya         4,5   \n",
       "\n",
       "      Fakultas  \n",
       "0          DKV  \n",
       "1        FIKOM  \n",
       "2        FIKOM  \n",
       "3          DKV  \n",
       "4          DKV  \n",
       "...        ...  \n",
       "11494    FIKOM  \n",
       "11495      DKV  \n",
       "11496       FT  \n",
       "11497      DKV  \n",
       "11498    FIKOM  \n",
       "\n",
       "[11499 rows x 11 columns]"
      ]
     },
     "execution_count": 5,
     "metadata": {},
     "output_type": "execute_result"
    }
   ],
   "source": [
    "df"
   ]
  },
  {
   "cell_type": "code",
   "execution_count": 6,
   "id": "4b95b86d-0195-4ddd-96f0-966ffbedfb9e",
   "metadata": {
    "colab": {
     "base_uri": "https://localhost:8080/"
    },
    "executionInfo": {
     "elapsed": 366,
     "status": "ok",
     "timestamp": 1662649327237,
     "user": {
      "displayName": "Ahmad Habib Hasan Zein",
      "userId": "06743622963259718983"
     },
     "user_tz": -420
    },
    "id": "4b95b86d-0195-4ddd-96f0-966ffbedfb9e",
    "outputId": "21dc47eb-3feb-48b6-e5bf-a12a3e5704ce"
   },
   "outputs": [
    {
     "name": "stdout",
     "output_type": "stream",
     "text": [
      "<class 'pandas.core.frame.DataFrame'>\n",
      "RangeIndex: 11499 entries, 0 to 11498\n",
      "Data columns (total 11 columns):\n",
      " #   Column             Non-Null Count  Dtype \n",
      "---  ------             --------------  ----- \n",
      " 0   Nama               11499 non-null  object\n",
      " 1   Gender             11499 non-null  object\n",
      " 2   Tinggal_Dengan     7517 non-null   object\n",
      " 3   Status_Kerja       11499 non-null  object\n",
      " 4   Biaya              7720 non-null   object\n",
      " 5   Tgl_Daftar_Kuliah  11499 non-null  int64 \n",
      " 6   Alamat             11499 non-null  object\n",
      " 7   UKM                11499 non-null  object\n",
      " 8   Organisasi_Kampus  11499 non-null  object\n",
      " 9   Lama_Kuliah        11499 non-null  object\n",
      " 10  Fakultas           11499 non-null  object\n",
      "dtypes: int64(1), object(10)\n",
      "memory usage: 988.3+ KB\n"
     ]
    }
   ],
   "source": [
    "df.info()"
   ]
  },
  {
   "cell_type": "code",
   "execution_count": 7,
   "id": "33be80cf-b5e1-4aff-938b-e0e71dc3ddf3",
   "metadata": {
    "colab": {
     "base_uri": "https://localhost:8080/"
    },
    "executionInfo": {
     "elapsed": 9,
     "status": "ok",
     "timestamp": 1662649327238,
     "user": {
      "displayName": "Ahmad Habib Hasan Zein",
      "userId": "06743622963259718983"
     },
     "user_tz": -420
    },
    "id": "33be80cf-b5e1-4aff-938b-e0e71dc3ddf3",
    "outputId": "a846e4e7-644c-4925-9a57-bbd117fe62af"
   },
   "outputs": [
    {
     "data": {
      "text/plain": [
       "Nama                 9731\n",
       "Gender                  2\n",
       "Tinggal_Dengan          2\n",
       "Status_Kerja            2\n",
       "Biaya                   2\n",
       "Alamat                  6\n",
       "UKM                     5\n",
       "Organisasi_Kampus       2\n",
       "Lama_Kuliah             8\n",
       "Fakultas                5\n",
       "dtype: int64"
      ]
     },
     "execution_count": 7,
     "metadata": {},
     "output_type": "execute_result"
    }
   ],
   "source": [
    "# Inspect the categorical variables\n",
    "df.select_dtypes('object').nunique()"
   ]
  },
  {
   "cell_type": "markdown",
   "id": "b8f83a11-79fb-487f-9a0a-54bce783fdde",
   "metadata": {
    "id": "b8f83a11-79fb-487f-9a0a-54bce783fdde"
   },
   "source": [
    "# Missing Value"
   ]
  },
  {
   "cell_type": "code",
   "execution_count": 8,
   "id": "4c743a7e-d2fc-4429-88c1-efa86954b8f2",
   "metadata": {
    "colab": {
     "base_uri": "https://localhost:8080/"
    },
    "executionInfo": {
     "elapsed": 7,
     "status": "ok",
     "timestamp": 1662649327238,
     "user": {
      "displayName": "Ahmad Habib Hasan Zein",
      "userId": "06743622963259718983"
     },
     "user_tz": -420
    },
    "id": "4c743a7e-d2fc-4429-88c1-efa86954b8f2",
    "outputId": "33636f4e-8f7a-45f0-f566-94155b3cbd48"
   },
   "outputs": [
    {
     "data": {
      "text/plain": [
       "Nama                    0\n",
       "Gender                  0\n",
       "Tinggal_Dengan       3982\n",
       "Status_Kerja            0\n",
       "Biaya                3779\n",
       "Tgl_Daftar_Kuliah       0\n",
       "Alamat                  0\n",
       "UKM                     0\n",
       "Organisasi_Kampus       0\n",
       "Lama_Kuliah             0\n",
       "Fakultas                0\n",
       "dtype: int64"
      ]
     },
     "execution_count": 8,
     "metadata": {},
     "output_type": "execute_result"
    }
   ],
   "source": [
    "df.isna().sum()"
   ]
  },
  {
   "cell_type": "code",
   "execution_count": 9,
   "id": "0bbb5729-914d-41be-bca0-66f4a369e083",
   "metadata": {
    "colab": {
     "base_uri": "https://localhost:8080/",
     "height": 584
    },
    "executionInfo": {
     "elapsed": 927,
     "status": "ok",
     "timestamp": 1662649328160,
     "user": {
      "displayName": "Ahmad Habib Hasan Zein",
      "userId": "06743622963259718983"
     },
     "user_tz": -420
    },
    "id": "0bbb5729-914d-41be-bca0-66f4a369e083",
    "outputId": "b760fe9b-cb4c-4ee0-ddbc-e6adad8f93bc"
   },
   "outputs": [
    {
     "data": {
      "text/plain": [
       "<AxesSubplot:>"
      ]
     },
     "execution_count": 9,
     "metadata": {},
     "output_type": "execute_result"
    },
    {
     "data": {
      "image/png": "[encoded data removed]",
      "text/plain": [
       "<Figure size 1800x720 with 2 Axes>"
      ]
     },
     "metadata": {
      "needs_background": "light"
     },
     "output_type": "display_data"
    }
   ],
   "source": [
    "msno.matrix(df)"
   ]
  },
  {
   "cell_type": "markdown",
   "id": "debe0459-92d3-4256-91de-73964b1dc6b1",
   "metadata": {
    "id": "debe0459-92d3-4256-91de-73964b1dc6b1"
   },
   "source": [
    "# Visualisasi"
   ]
  },
  {
   "cell_type": "markdown",
   "id": "otXQ0PEa5Wnp",
   "metadata": {
    "id": "otXQ0PEa5Wnp"
   },
   "source": [
    "## Gender"
   ]
  },
  {
   "cell_type": "code",
   "execution_count": 10,
   "id": "8973527b-28be-40fa-8bff-1a8c43690b01",
   "metadata": {
    "colab": {
     "base_uri": "https://localhost:8080/",
     "height": 323
    },
    "executionInfo": {
     "elapsed": 13,
     "status": "ok",
     "timestamp": 1662649328160,
     "user": {
      "displayName": "Ahmad Habib Hasan Zein",
      "userId": "06743622963259718983"
     },
     "user_tz": -420
    },
    "id": "8973527b-28be-40fa-8bff-1a8c43690b01",
    "outputId": "95c54f9b-6714-44fe-d1c0-f2cebccac628"
   },
   "outputs": [
    {
     "data": {
      "text/plain": [
       "<AxesSubplot:title={'center':'Frekuensi Gender'}>"
      ]
     },
     "execution_count": 10,
     "metadata": {},
     "output_type": "execute_result"
    },
    {
     "data": {
      "image/png": "[encoded data removed]",
      "text/plain": [
       "<Figure size 432x288 with 1 Axes>"
      ]
     },
     "metadata": {
      "needs_background": "light"
     },
     "output_type": "display_data"
    }
   ],
   "source": [
    "df[\"Gender\"].value_counts().plot(kind=\"bar\",title=\"Frekuensi Gender\")"
   ]
  },
  {
   "cell_type": "markdown",
   "id": "szx6ytKh5aWx",
   "metadata": {
    "id": "szx6ytKh5aWx"
   },
   "source": [
    "## Status Tinggal"
   ]
  },
  {
   "cell_type": "code",
   "execution_count": 11,
   "id": "982ce108-8ff8-4e55-a6aa-24c43a69ebcf",
   "metadata": {
    "colab": {
     "base_uri": "https://localhost:8080/",
     "height": 339
    },
    "executionInfo": {
     "elapsed": 989,
     "status": "ok",
     "timestamp": 1662649329142,
     "user": {
      "displayName": "Ahmad Habib Hasan Zein",
      "userId": "06743622963259718983"
     },
     "user_tz": -420
    },
    "id": "982ce108-8ff8-4e55-a6aa-24c43a69ebcf",
    "outputId": "3aba1388-f6fc-4d29-b5e1-a18e4c0390e1"
   },
   "outputs": [
    {
     "data": {
      "text/plain": [
       "<AxesSubplot:title={'center':'Frekuensi Status Tinggal'}>"
      ]
     },
     "execution_count": 11,
     "metadata": {},
     "output_type": "execute_result"
    },
    {
     "data": {
      "image/png": "[encoded data removed]",
      "text/plain": [
       "<Figure size 432x288 with 1 Axes>"
      ]
     },
     "metadata": {
      "needs_background": "light"
     },
     "output_type": "display_data"
    }
   ],
   "source": [
    "df[\"Tinggal_Dengan\"].value_counts().plot(kind=\"bar\",title=\"Frekuensi Status Tinggal\")"
   ]
  },
  {
   "cell_type": "markdown",
   "id": "XNjITZvV5gQC",
   "metadata": {
    "id": "XNjITZvV5gQC"
   },
   "source": [
    "## Status Kerja"
   ]
  },
  {
   "cell_type": "code",
   "execution_count": 12,
   "id": "bea5d513-2453-40ce-961d-2a7c50affaf6",
   "metadata": {
    "colab": {
     "base_uri": "https://localhost:8080/",
     "height": 326
    },
    "executionInfo": {
     "elapsed": 23,
     "status": "ok",
     "timestamp": 1662649329142,
     "user": {
      "displayName": "Ahmad Habib Hasan Zein",
      "userId": "06743622963259718983"
     },
     "user_tz": -420
    },
    "id": "bea5d513-2453-40ce-961d-2a7c50affaf6",
    "outputId": "b8ce1726-5375-4506-92fa-d0cdcdf4e0ce"
   },
   "outputs": [
    {
     "data": {
      "text/plain": [
       "<AxesSubplot:title={'center':'Frekuensi Status Kerja'}>"
      ]
     },
     "execution_count": 12,
     "metadata": {},
     "output_type": "execute_result"
    },
    {
     "data": {
      "image/png": "[encoded data removed]",
      "text/plain": [
       "<Figure size 432x288 with 1 Axes>"
      ]
     },
     "metadata": {
      "needs_background": "light"
     },
     "output_type": "display_data"
    }
   ],
   "source": [
    "df[\"Status_Kerja\"].value_counts().plot(kind=\"bar\",title=\"Frekuensi Status Kerja\")"
   ]
  },
  {
   "cell_type": "markdown",
   "id": "iSf7pjHN5lYm",
   "metadata": {
    "id": "iSf7pjHN5lYm"
   },
   "source": [
    "## Biaya Kuliah"
   ]
  },
  {
   "cell_type": "code",
   "execution_count": 13,
   "id": "m6O2xAAE5k_Z",
   "metadata": {
    "colab": {
     "base_uri": "https://localhost:8080/",
     "height": 339
    },
    "executionInfo": {
     "elapsed": 19,
     "status": "ok",
     "timestamp": 1662649329143,
     "user": {
      "displayName": "Ahmad Habib Hasan Zein",
      "userId": "06743622963259718983"
     },
     "user_tz": -420
    },
    "id": "m6O2xAAE5k_Z",
    "outputId": "639f179f-17b3-4e3b-9e9f-2adce42ffede"
   },
   "outputs": [
    {
     "data": {
      "text/plain": [
       "<AxesSubplot:title={'center':'Frekuensi Biaya'}>"
      ]
     },
     "execution_count": 13,
     "metadata": {},
     "output_type": "execute_result"
    },
    {
     "data": {
      "image/png": "[encoded data removed]",
      "text/plain": [
       "<Figure size 432x288 with 1 Axes>"
      ]
     },
     "metadata": {
      "needs_background": "light"
     },
     "output_type": "display_data"
    }
   ],
   "source": [
    "df[\"Biaya\"].value_counts().plot(kind=\"bar\",title=\"Frekuensi Biaya\")"
   ]
  },
  {
   "cell_type": "markdown",
   "id": "DB367IEK5yLD",
   "metadata": {
    "id": "DB367IEK5yLD"
   },
   "source": [
    "## Alamat"
   ]
  },
  {
   "cell_type": "code",
   "execution_count": 14,
   "id": "mUgzVxrH5362",
   "metadata": {
    "colab": {
     "base_uri": "https://localhost:8080/",
     "height": 341
    },
    "executionInfo": {
     "elapsed": 18,
     "status": "ok",
     "timestamp": 1662649329143,
     "user": {
      "displayName": "Ahmad Habib Hasan Zein",
      "userId": "06743622963259718983"
     },
     "user_tz": -420
    },
    "id": "mUgzVxrH5362",
    "outputId": "fc996601-c31d-4f4c-d5b1-bed444cd58e2"
   },
   "outputs": [
    {
     "data": {
      "text/plain": [
       "<AxesSubplot:title={'center':'Frekuensi Alamat'}>"
      ]
     },
     "execution_count": 14,
     "metadata": {},
     "output_type": "execute_result"
    },
    {
     "data": {
      "image/png": "[encoded data removed]",
      "text/plain": [
       "<Figure size 432x288 with 1 Axes>"
      ]
     },
     "metadata": {
      "needs_background": "light"
     },
     "output_type": "display_data"
    }
   ],
   "source": [
    "df[\"Alamat\"].value_counts().plot(kind=\"bar\",title=\"Frekuensi Alamat\")"
   ]
  },
  {
   "cell_type": "markdown",
   "id": "JPyAGCP758xN",
   "metadata": {
    "id": "JPyAGCP758xN"
   },
   "source": [
    "## UKM"
   ]
  },
  {
   "cell_type": "code",
   "execution_count": 15,
   "id": "NLS3tYEh6B27",
   "metadata": {
    "colab": {
     "base_uri": "https://localhost:8080/",
     "height": 322
    },
    "executionInfo": {
     "elapsed": 16,
     "status": "ok",
     "timestamp": 1662649329143,
     "user": {
      "displayName": "Ahmad Habib Hasan Zein",
      "userId": "06743622963259718983"
     },
     "user_tz": -420
    },
    "id": "NLS3tYEh6B27",
    "outputId": "6096bfd3-3fab-4327-b58b-b34007638a3a"
   },
   "outputs": [
    {
     "data": {
      "text/plain": [
       "<AxesSubplot:title={'center':'Frekuensi UKM'}>"
      ]
     },
     "execution_count": 15,
     "metadata": {},
     "output_type": "execute_result"
    },
    {
     "data": {
      "image/png": "[encoded data removed]",
      "text/plain": [
       "<Figure size 432x288 with 1 Axes>"
      ]
     },
     "metadata": {
      "needs_background": "light"
     },
     "output_type": "display_data"
    }
   ],
   "source": [
    "df[\"UKM\"].value_counts().plot(kind=\"bar\",title=\"Frekuensi UKM\")"
   ]
  },
  {
   "cell_type": "markdown",
   "id": "wINITgZj6JKT",
   "metadata": {
    "id": "wINITgZj6JKT"
   },
   "source": [
    "## Organisasi_Kampus"
   ]
  },
  {
   "cell_type": "code",
   "execution_count": 16,
   "id": "6dzulv5_6IbM",
   "metadata": {
    "colab": {
     "base_uri": "https://localhost:8080/",
     "height": 315
    },
    "executionInfo": {
     "elapsed": 16,
     "status": "ok",
     "timestamp": 1662649329144,
     "user": {
      "displayName": "Ahmad Habib Hasan Zein",
      "userId": "06743622963259718983"
     },
     "user_tz": -420
    },
    "id": "6dzulv5_6IbM",
    "outputId": "87659ead-b3c0-44e2-f2ed-a30d8c61e1fe"
   },
   "outputs": [
    {
     "data": {
      "text/plain": [
       "<AxesSubplot:title={'center':'Frekuensi Organisasi_Kampus'}>"
      ]
     },
     "execution_count": 16,
     "metadata": {},
     "output_type": "execute_result"
    },
    {
     "data": {
      "image/png": "[encoded data removed]",
      "text/plain": [
       "<Figure size 432x288 with 1 Axes>"
      ]
     },
     "metadata": {
      "needs_background": "light"
     },
     "output_type": "display_data"
    }
   ],
   "source": [
    "df[\"Organisasi_Kampus\"].value_counts().plot(kind=\"bar\",title=\"Frekuensi Organisasi_Kampus\")"
   ]
  },
  {
   "cell_type": "markdown",
   "id": "9May-1H06S7Z",
   "metadata": {
    "id": "9May-1H06S7Z"
   },
   "source": [
    "## Fakultas"
   ]
  },
  {
   "cell_type": "code",
   "execution_count": 17,
   "id": "Ihu2-sd76XaT",
   "metadata": {
    "colab": {
     "base_uri": "https://localhost:8080/",
     "height": 319
    },
    "executionInfo": {
     "elapsed": 779,
     "status": "ok",
     "timestamp": 1662649329909,
     "user": {
      "displayName": "Ahmad Habib Hasan Zein",
      "userId": "06743622963259718983"
     },
     "user_tz": -420
    },
    "id": "Ihu2-sd76XaT",
    "outputId": "0174df23-16c5-4bf5-8371-072c8cac000b"
   },
   "outputs": [
    {
     "data": {
      "text/plain": [
       "<AxesSubplot:title={'center':'Frekuensi Fakultas'}>"
      ]
     },
     "execution_count": 17,
     "metadata": {},
     "output_type": "execute_result"
    },
    {
     "data": {
      "image/png": "[encoded data removed]",
      "text/plain": [
       "<Figure size 432x288 with 1 Axes>"
      ]
     },
     "metadata": {
      "needs_background": "light"
     },
     "output_type": "display_data"
    }
   ],
   "source": [
    "df[\"Fakultas\"].value_counts().plot(kind=\"bar\",title=\"Frekuensi Fakultas\")"
   ]
  },
  {
   "cell_type": "markdown",
   "id": "aH-T9YMt6dcq",
   "metadata": {
    "id": "aH-T9YMt6dcq"
   },
   "source": [
    "## Lama Kuliah"
   ]
  },
  {
   "cell_type": "code",
   "execution_count": 18,
   "id": "786413bb-1dbd-43c4-8a78-01e75c71600d",
   "metadata": {
    "executionInfo": {
     "elapsed": 24,
     "status": "ok",
     "timestamp": 1662649329910,
     "user": {
      "displayName": "Ahmad Habib Hasan Zein",
      "userId": "06743622963259718983"
     },
     "user_tz": -420
    },
    "id": "786413bb-1dbd-43c4-8a78-01e75c71600d"
   },
   "outputs": [],
   "source": [
    "df[\"Lama_Kuliah\"]=df[\"Lama_Kuliah\"].str.replace(',','.',regex=True)"
   ]
  },
  {
   "cell_type": "code",
   "execution_count": 19,
   "id": "813c7bc0-4965-4ebc-a2af-7713d2c82916",
   "metadata": {
    "executionInfo": {
     "elapsed": 25,
     "status": "ok",
     "timestamp": 1662649329911,
     "user": {
      "displayName": "Ahmad Habib Hasan Zein",
      "userId": "06743622963259718983"
     },
     "user_tz": -420
    },
    "id": "813c7bc0-4965-4ebc-a2af-7713d2c82916"
   },
   "outputs": [],
   "source": [
    "df[\"Lama_Kuliah\"]=df[\"Lama_Kuliah\"].astype(float)"
   ]
  },
  {
   "cell_type": "code",
   "execution_count": 20,
   "id": "247317a3-ab60-4cb8-84db-bf169dbb5126",
   "metadata": {
    "colab": {
     "base_uri": "https://localhost:8080/",
     "height": 296
    },
    "executionInfo": {
     "elapsed": 26,
     "status": "ok",
     "timestamp": 1662649329912,
     "user": {
      "displayName": "Ahmad Habib Hasan Zein",
      "userId": "06743622963259718983"
     },
     "user_tz": -420
    },
    "id": "247317a3-ab60-4cb8-84db-bf169dbb5126",
    "outputId": "e98c87e9-ded0-41dd-8003-e470be00490c"
   },
   "outputs": [
    {
     "data": {
      "image/png": "[encoded data removed]",
      "text/plain": [
       "<Figure size 432x288 with 1 Axes>"
      ]
     },
     "metadata": {
      "needs_background": "light"
     },
     "output_type": "display_data"
    }
   ],
   "source": [
    "# Boxplot Lama Kuliah\n",
    "plt.boxplot(df[\"Lama_Kuliah\"])\n",
    "plt.xlabel(\"Lama_Kuliah\")\n",
    "plt.ylabel(\"Value\")\n",
    "plt.title(\"Boxplot Lama Kuliah\")\n",
    "plt.show() "
   ]
  },
  {
   "cell_type": "markdown",
   "id": "7cf2056a-2069-4b48-b602-c075efbd8038",
   "metadata": {
    "id": "7cf2056a-2069-4b48-b602-c075efbd8038",
    "tags": []
   },
   "source": [
    "# Missing Value Handling"
   ]
  },
  {
   "cell_type": "code",
   "execution_count": 21,
   "id": "bnorfgHl6uRr",
   "metadata": {
    "colab": {
     "base_uri": "https://localhost:8080/"
    },
    "executionInfo": {
     "elapsed": 25,
     "status": "ok",
     "timestamp": 1662649329912,
     "user": {
      "displayName": "Ahmad Habib Hasan Zein",
      "userId": "06743622963259718983"
     },
     "user_tz": -420
    },
    "id": "bnorfgHl6uRr",
    "outputId": "116abd89-5928-4b1d-8689-42dfa45a9e85"
   },
   "outputs": [
    {
     "name": "stdout",
     "output_type": "stream",
     "text": [
      "<class 'pandas.core.frame.DataFrame'>\n",
      "RangeIndex: 11499 entries, 0 to 11498\n",
      "Data columns (total 11 columns):\n",
      " #   Column             Non-Null Count  Dtype  \n",
      "---  ------             --------------  -----  \n",
      " 0   Nama               11499 non-null  object \n",
      " 1   Gender             11499 non-null  object \n",
      " 2   Tinggal_Dengan     7517 non-null   object \n",
      " 3   Status_Kerja       11499 non-null  object \n",
      " 4   Biaya              7720 non-null   object \n",
      " 5   Tgl_Daftar_Kuliah  11499 non-null  int64  \n",
      " 6   Alamat             11499 non-null  object \n",
      " 7   UKM                11499 non-null  object \n",
      " 8   Organisasi_Kampus  11499 non-null  object \n",
      " 9   Lama_Kuliah        11499 non-null  float64\n",
      " 10  Fakultas           11499 non-null  object \n",
      "dtypes: float64(1), int64(1), object(9)\n",
      "memory usage: 988.3+ KB\n"
     ]
    }
   ],
   "source": [
    "# Check format again\n",
    "df.info()"
   ]
  },
  {
   "cell_type": "markdown",
   "id": "e615f5ca-79a0-4525-8736-05531ab428b6",
   "metadata": {
    "id": "e615f5ca-79a0-4525-8736-05531ab428b6"
   },
   "source": [
    "## Simple Imputer"
   ]
  },
  {
   "cell_type": "code",
   "execution_count": 22,
   "id": "mW9ZxJd161il",
   "metadata": {
    "executionInfo": {
     "elapsed": 24,
     "status": "ok",
     "timestamp": 1662649329912,
     "user": {
      "displayName": "Ahmad Habib Hasan Zein",
      "userId": "06743622963259718983"
     },
     "user_tz": -420
    },
    "id": "mW9ZxJd161il"
   },
   "outputs": [],
   "source": [
    "# Module simple imputer\n",
    "from sklearn.impute import SimpleImputer"
   ]
  },
  {
   "cell_type": "code",
   "execution_count": 23,
   "id": "liJ5CnuM7JHM",
   "metadata": {
    "executionInfo": {
     "elapsed": 25,
     "status": "ok",
     "timestamp": 1662649329913,
     "user": {
      "displayName": "Ahmad Habib Hasan Zein",
      "userId": "06743622963259718983"
     },
     "user_tz": -420
    },
    "id": "liJ5CnuM7JHM"
   },
   "outputs": [],
   "source": [
    "imputer = SimpleImputer(strategy='constant',missing_values=np.nan, fill_value=\"Others\")"
   ]
  },
  {
   "cell_type": "code",
   "execution_count": 24,
   "id": "vgixBG1Z7q6F",
   "metadata": {
    "executionInfo": {
     "elapsed": 25,
     "status": "ok",
     "timestamp": 1662649329914,
     "user": {
      "displayName": "Ahmad Habib Hasan Zein",
      "userId": "06743622963259718983"
     },
     "user_tz": -420
    },
    "id": "vgixBG1Z7q6F"
   },
   "outputs": [],
   "source": [
    "imputer = imputer.fit(df[['Tinggal_Dengan','Biaya']])\n",
    "df[['Tinggal_Dengan','Biaya']] = imputer.transform(df[['Tinggal_Dengan','Biaya']])"
   ]
  },
  {
   "cell_type": "code",
   "execution_count": 25,
   "id": "ooqQXGcU7317",
   "metadata": {
    "colab": {
     "base_uri": "https://localhost:8080/"
    },
    "executionInfo": {
     "elapsed": 26,
     "status": "ok",
     "timestamp": 1662649329915,
     "user": {
      "displayName": "Ahmad Habib Hasan Zein",
      "userId": "06743622963259718983"
     },
     "user_tz": -420
    },
    "id": "ooqQXGcU7317",
    "outputId": "efbcc87a-3fd0-4799-99ed-6bde45eca6dd"
   },
   "outputs": [
    {
     "name": "stdout",
     "output_type": "stream",
     "text": [
      "<class 'pandas.core.frame.DataFrame'>\n",
      "RangeIndex: 11499 entries, 0 to 11498\n",
      "Data columns (total 11 columns):\n",
      " #   Column             Non-Null Count  Dtype  \n",
      "---  ------             --------------  -----  \n",
      " 0   Nama               11499 non-null  object \n",
      " 1   Gender             11499 non-null  object \n",
      " 2   Tinggal_Dengan     11499 non-null  object \n",
      " 3   Status_Kerja       11499 non-null  object \n",
      " 4   Biaya              11499 non-null  object \n",
      " 5   Tgl_Daftar_Kuliah  11499 non-null  int64  \n",
      " 6   Alamat             11499 non-null  object \n",
      " 7   UKM                11499 non-null  object \n",
      " 8   Organisasi_Kampus  11499 non-null  object \n",
      " 9   Lama_Kuliah        11499 non-null  float64\n",
      " 10  Fakultas           11499 non-null  object \n",
      "dtypes: float64(1), int64(1), object(9)\n",
      "memory usage: 988.3+ KB\n"
     ]
    }
   ],
   "source": [
    "df.info()"
   ]
  },
  {
   "cell_type": "code",
   "execution_count": 26,
   "id": "-iIgebnq76Vi",
   "metadata": {
    "colab": {
     "base_uri": "https://localhost:8080/",
     "height": 467
    },
    "executionInfo": {
     "elapsed": 24,
     "status": "ok",
     "timestamp": 1662649329915,
     "user": {
      "displayName": "Ahmad Habib Hasan Zein",
      "userId": "06743622963259718983"
     },
     "user_tz": -420
    },
    "id": "-iIgebnq76Vi",
    "outputId": "a174fabc-4a71-41c5-e0c6-bddb2e461a43"
   },
   "outputs": [
    {
     "data": {
      "text/html": [
       "<div>\n",
       "<style scoped>\n",
       "    .dataframe tbody tr th:only-of-type {\n",
       "        vertical-align: middle;\n",
       "    }\n",
       "\n",
       "    .dataframe tbody tr th {\n",
       "        vertical-align: top;\n",
       "    }\n",
       "\n",
       "    .dataframe thead th {\n",
       "        text-align: right;\n",
       "    }\n",
       "</style>\n",
       "<table border=\"1\" class=\"dataframe\">\n",
       "  <thead>\n",
       "    <tr style=\"text-align: right;\">\n",
       "      <th></th>\n",
       "      <th>Nama</th>\n",
       "      <th>Gender</th>\n",
       "      <th>Tinggal_Dengan</th>\n",
       "      <th>Status_Kerja</th>\n",
       "      <th>Biaya</th>\n",
       "      <th>Tgl_Daftar_Kuliah</th>\n",
       "      <th>Alamat</th>\n",
       "      <th>UKM</th>\n",
       "      <th>Organisasi_Kampus</th>\n",
       "      <th>Lama_Kuliah</th>\n",
       "      <th>Fakultas</th>\n",
       "    </tr>\n",
       "  </thead>\n",
       "  <tbody>\n",
       "    <tr>\n",
       "      <th>0</th>\n",
       "      <td>Abbey Butler</td>\n",
       "      <td>Pria</td>\n",
       "      <td>Kos</td>\n",
       "      <td>Belum</td>\n",
       "      <td>Beasiswa</td>\n",
       "      <td>2008</td>\n",
       "      <td>Tangerang</td>\n",
       "      <td>UKM_3</td>\n",
       "      <td>Ya</td>\n",
       "      <td>3.5</td>\n",
       "      <td>DKV</td>\n",
       "    </tr>\n",
       "    <tr>\n",
       "      <th>1</th>\n",
       "      <td>Abbey Carpenter</td>\n",
       "      <td>Wanita</td>\n",
       "      <td>Others</td>\n",
       "      <td>Belum</td>\n",
       "      <td>Others</td>\n",
       "      <td>2009</td>\n",
       "      <td>Bekasi</td>\n",
       "      <td>UKM_2</td>\n",
       "      <td>Tidak</td>\n",
       "      <td>4.0</td>\n",
       "      <td>FIKOM</td>\n",
       "    </tr>\n",
       "    <tr>\n",
       "      <th>2</th>\n",
       "      <td>Abbey Dubois</td>\n",
       "      <td>Wanita</td>\n",
       "      <td>Others</td>\n",
       "      <td>Bekerja</td>\n",
       "      <td>Beasiswa</td>\n",
       "      <td>2008</td>\n",
       "      <td>Serang</td>\n",
       "      <td>UKM_4</td>\n",
       "      <td>Tidak</td>\n",
       "      <td>4.5</td>\n",
       "      <td>FIKOM</td>\n",
       "    </tr>\n",
       "    <tr>\n",
       "      <th>3</th>\n",
       "      <td>Abbey Gosling</td>\n",
       "      <td>Wanita</td>\n",
       "      <td>Orang Tua</td>\n",
       "      <td>Belum</td>\n",
       "      <td>Beasiswa</td>\n",
       "      <td>2009</td>\n",
       "      <td>Serang</td>\n",
       "      <td>UKM_1</td>\n",
       "      <td>Tidak</td>\n",
       "      <td>5.5</td>\n",
       "      <td>DKV</td>\n",
       "    </tr>\n",
       "    <tr>\n",
       "      <th>4</th>\n",
       "      <td>Abbey Logan</td>\n",
       "      <td>Wanita</td>\n",
       "      <td>Orang Tua</td>\n",
       "      <td>Bekerja</td>\n",
       "      <td>Others</td>\n",
       "      <td>2009</td>\n",
       "      <td>Bekasi</td>\n",
       "      <td>Tidak</td>\n",
       "      <td>Ya</td>\n",
       "      <td>6.5</td>\n",
       "      <td>DKV</td>\n",
       "    </tr>\n",
       "    <tr>\n",
       "      <th>...</th>\n",
       "      <td>...</td>\n",
       "      <td>...</td>\n",
       "      <td>...</td>\n",
       "      <td>...</td>\n",
       "      <td>...</td>\n",
       "      <td>...</td>\n",
       "      <td>...</td>\n",
       "      <td>...</td>\n",
       "      <td>...</td>\n",
       "      <td>...</td>\n",
       "      <td>...</td>\n",
       "    </tr>\n",
       "    <tr>\n",
       "      <th>11494</th>\n",
       "      <td>Carter Downing</td>\n",
       "      <td>Pria</td>\n",
       "      <td>Orang Tua</td>\n",
       "      <td>Belum</td>\n",
       "      <td>Orang Tua</td>\n",
       "      <td>2009</td>\n",
       "      <td>Tangerang</td>\n",
       "      <td>UKM_3</td>\n",
       "      <td>Ya</td>\n",
       "      <td>4.5</td>\n",
       "      <td>FIKOM</td>\n",
       "    </tr>\n",
       "    <tr>\n",
       "      <th>11495</th>\n",
       "      <td>Carter Driscoll</td>\n",
       "      <td>Wanita</td>\n",
       "      <td>Others</td>\n",
       "      <td>Bekerja</td>\n",
       "      <td>Beasiswa</td>\n",
       "      <td>2008</td>\n",
       "      <td>Karawang</td>\n",
       "      <td>Tidak</td>\n",
       "      <td>Tidak</td>\n",
       "      <td>3.5</td>\n",
       "      <td>DKV</td>\n",
       "    </tr>\n",
       "    <tr>\n",
       "      <th>11496</th>\n",
       "      <td>Carter Drummond</td>\n",
       "      <td>Wanita</td>\n",
       "      <td>Kos</td>\n",
       "      <td>Bekerja</td>\n",
       "      <td>Beasiswa</td>\n",
       "      <td>2007</td>\n",
       "      <td>Bogor</td>\n",
       "      <td>UKM_2</td>\n",
       "      <td>Ya</td>\n",
       "      <td>5.0</td>\n",
       "      <td>FT</td>\n",
       "    </tr>\n",
       "    <tr>\n",
       "      <th>11497</th>\n",
       "      <td>Carter Dubois</td>\n",
       "      <td>Wanita</td>\n",
       "      <td>Kos</td>\n",
       "      <td>Bekerja</td>\n",
       "      <td>Others</td>\n",
       "      <td>2007</td>\n",
       "      <td>Karawang</td>\n",
       "      <td>UKM_4</td>\n",
       "      <td>Tidak</td>\n",
       "      <td>4.5</td>\n",
       "      <td>DKV</td>\n",
       "    </tr>\n",
       "    <tr>\n",
       "      <th>11498</th>\n",
       "      <td>Carter Edley</td>\n",
       "      <td>Wanita</td>\n",
       "      <td>Kos</td>\n",
       "      <td>Belum</td>\n",
       "      <td>Others</td>\n",
       "      <td>2008</td>\n",
       "      <td>Bekasi</td>\n",
       "      <td>UKM_2</td>\n",
       "      <td>Ya</td>\n",
       "      <td>4.5</td>\n",
       "      <td>FIKOM</td>\n",
       "    </tr>\n",
       "  </tbody>\n",
       "</table>\n",
       "<p>11499 rows × 11 columns</p>\n",
       "</div>"
      ],
      "text/plain": [
       "                  Nama  Gender Tinggal_Dengan Status_Kerja      Biaya  \\\n",
       "0         Abbey Butler    Pria            Kos        Belum   Beasiswa   \n",
       "1      Abbey Carpenter  Wanita         Others        Belum     Others   \n",
       "2         Abbey Dubois  Wanita         Others      Bekerja   Beasiswa   \n",
       "3        Abbey Gosling  Wanita      Orang Tua        Belum   Beasiswa   \n",
       "4          Abbey Logan  Wanita      Orang Tua      Bekerja     Others   \n",
       "...                ...     ...            ...          ...        ...   \n",
       "11494   Carter Downing    Pria      Orang Tua        Belum  Orang Tua   \n",
       "11495  Carter Driscoll  Wanita         Others      Bekerja   Beasiswa   \n",
       "11496  Carter Drummond  Wanita            Kos      Bekerja   Beasiswa   \n",
       "11497    Carter Dubois  Wanita            Kos      Bekerja     Others   \n",
       "11498     Carter Edley  Wanita            Kos        Belum     Others   \n",
       "\n",
       "       Tgl_Daftar_Kuliah     Alamat    UKM Organisasi_Kampus  Lama_Kuliah  \\\n",
       "0                   2008  Tangerang  UKM_3                Ya          3.5   \n",
       "1                   2009     Bekasi  UKM_2             Tidak          4.0   \n",
       "2                   2008     Serang  UKM_4             Tidak          4.5   \n",
       "3                   2009     Serang  UKM_1             Tidak          5.5   \n",
       "4                   2009     Bekasi  Tidak                Ya          6.5   \n",
       "...                  ...        ...    ...               ...          ...   \n",
       "11494               2009  Tangerang  UKM_3                Ya          4.5   \n",
       "11495               2008   Karawang  Tidak             Tidak          3.5   \n",
       "11496               2007      Bogor  UKM_2                Ya          5.0   \n",
       "11497               2007   Karawang  UKM_4             Tidak          4.5   \n",
       "11498               2008     Bekasi  UKM_2                Ya          4.5   \n",
       "\n",
       "      Fakultas  \n",
       "0          DKV  \n",
       "1        FIKOM  \n",
       "2        FIKOM  \n",
       "3          DKV  \n",
       "4          DKV  \n",
       "...        ...  \n",
       "11494    FIKOM  \n",
       "11495      DKV  \n",
       "11496       FT  \n",
       "11497      DKV  \n",
       "11498    FIKOM  \n",
       "\n",
       "[11499 rows x 11 columns]"
      ]
     },
     "execution_count": 26,
     "metadata": {},
     "output_type": "execute_result"
    }
   ],
   "source": [
    "df"
   ]
  },
  {
   "cell_type": "markdown",
   "id": "2b6cdca2-37ee-4e43-972a-4afe2eb0879a",
   "metadata": {
    "id": "2b6cdca2-37ee-4e43-972a-4afe2eb0879a",
    "tags": []
   },
   "source": [
    "# Clustering Model"
   ]
  },
  {
   "cell_type": "code",
   "execution_count": 27,
   "id": "8xR7B5VcA-5z",
   "metadata": {
    "executionInfo": {
     "elapsed": 24,
     "status": "ok",
     "timestamp": 1662649329916,
     "user": {
      "displayName": "Ahmad Habib Hasan Zein",
      "userId": "06743622963259718983"
     },
     "user_tz": -420
    },
    "id": "8xR7B5VcA-5z"
   },
   "outputs": [],
   "source": [
    "# Drop Column\n",
    "df2=df.drop(columns=['Nama', 'Gender','Alamat','Tinggal_Dengan',\"Tgl_Daftar_Kuliah\"])"
   ]
  },
  {
   "cell_type": "code",
   "execution_count": 28,
   "id": "o0_t5bLwBtL4",
   "metadata": {
    "colab": {
     "base_uri": "https://localhost:8080/",
     "height": 423
    },
    "executionInfo": {
     "elapsed": 24,
     "status": "ok",
     "timestamp": 1662649329916,
     "user": {
      "displayName": "Ahmad Habib Hasan Zein",
      "userId": "06743622963259718983"
     },
     "user_tz": -420
    },
    "id": "o0_t5bLwBtL4",
    "outputId": "21b920c5-343d-4862-9d50-b4f98aead09f"
   },
   "outputs": [
    {
     "data": {
      "text/html": [
       "<div>\n",
       "<style scoped>\n",
       "    .dataframe tbody tr th:only-of-type {\n",
       "        vertical-align: middle;\n",
       "    }\n",
       "\n",
       "    .dataframe tbody tr th {\n",
       "        vertical-align: top;\n",
       "    }\n",
       "\n",
       "    .dataframe thead th {\n",
       "        text-align: right;\n",
       "    }\n",
       "</style>\n",
       "<table border=\"1\" class=\"dataframe\">\n",
       "  <thead>\n",
       "    <tr style=\"text-align: right;\">\n",
       "      <th></th>\n",
       "      <th>Status_Kerja</th>\n",
       "      <th>Biaya</th>\n",
       "      <th>UKM</th>\n",
       "      <th>Organisasi_Kampus</th>\n",
       "      <th>Lama_Kuliah</th>\n",
       "      <th>Fakultas</th>\n",
       "    </tr>\n",
       "  </thead>\n",
       "  <tbody>\n",
       "    <tr>\n",
       "      <th>0</th>\n",
       "      <td>Belum</td>\n",
       "      <td>Beasiswa</td>\n",
       "      <td>UKM_3</td>\n",
       "      <td>Ya</td>\n",
       "      <td>3.5</td>\n",
       "      <td>DKV</td>\n",
       "    </tr>\n",
       "    <tr>\n",
       "      <th>1</th>\n",
       "      <td>Belum</td>\n",
       "      <td>Others</td>\n",
       "      <td>UKM_2</td>\n",
       "      <td>Tidak</td>\n",
       "      <td>4.0</td>\n",
       "      <td>FIKOM</td>\n",
       "    </tr>\n",
       "    <tr>\n",
       "      <th>2</th>\n",
       "      <td>Bekerja</td>\n",
       "      <td>Beasiswa</td>\n",
       "      <td>UKM_4</td>\n",
       "      <td>Tidak</td>\n",
       "      <td>4.5</td>\n",
       "      <td>FIKOM</td>\n",
       "    </tr>\n",
       "    <tr>\n",
       "      <th>3</th>\n",
       "      <td>Belum</td>\n",
       "      <td>Beasiswa</td>\n",
       "      <td>UKM_1</td>\n",
       "      <td>Tidak</td>\n",
       "      <td>5.5</td>\n",
       "      <td>DKV</td>\n",
       "    </tr>\n",
       "    <tr>\n",
       "      <th>4</th>\n",
       "      <td>Bekerja</td>\n",
       "      <td>Others</td>\n",
       "      <td>Tidak</td>\n",
       "      <td>Ya</td>\n",
       "      <td>6.5</td>\n",
       "      <td>DKV</td>\n",
       "    </tr>\n",
       "    <tr>\n",
       "      <th>...</th>\n",
       "      <td>...</td>\n",
       "      <td>...</td>\n",
       "      <td>...</td>\n",
       "      <td>...</td>\n",
       "      <td>...</td>\n",
       "      <td>...</td>\n",
       "    </tr>\n",
       "    <tr>\n",
       "      <th>11494</th>\n",
       "      <td>Belum</td>\n",
       "      <td>Orang Tua</td>\n",
       "      <td>UKM_3</td>\n",
       "      <td>Ya</td>\n",
       "      <td>4.5</td>\n",
       "      <td>FIKOM</td>\n",
       "    </tr>\n",
       "    <tr>\n",
       "      <th>11495</th>\n",
       "      <td>Bekerja</td>\n",
       "      <td>Beasiswa</td>\n",
       "      <td>Tidak</td>\n",
       "      <td>Tidak</td>\n",
       "      <td>3.5</td>\n",
       "      <td>DKV</td>\n",
       "    </tr>\n",
       "    <tr>\n",
       "      <th>11496</th>\n",
       "      <td>Bekerja</td>\n",
       "      <td>Beasiswa</td>\n",
       "      <td>UKM_2</td>\n",
       "      <td>Ya</td>\n",
       "      <td>5.0</td>\n",
       "      <td>FT</td>\n",
       "    </tr>\n",
       "    <tr>\n",
       "      <th>11497</th>\n",
       "      <td>Bekerja</td>\n",
       "      <td>Others</td>\n",
       "      <td>UKM_4</td>\n",
       "      <td>Tidak</td>\n",
       "      <td>4.5</td>\n",
       "      <td>DKV</td>\n",
       "    </tr>\n",
       "    <tr>\n",
       "      <th>11498</th>\n",
       "      <td>Belum</td>\n",
       "      <td>Others</td>\n",
       "      <td>UKM_2</td>\n",
       "      <td>Ya</td>\n",
       "      <td>4.5</td>\n",
       "      <td>FIKOM</td>\n",
       "    </tr>\n",
       "  </tbody>\n",
       "</table>\n",
       "<p>11499 rows × 6 columns</p>\n",
       "</div>"
      ],
      "text/plain": [
       "      Status_Kerja      Biaya    UKM Organisasi_Kampus  Lama_Kuliah Fakultas\n",
       "0            Belum   Beasiswa  UKM_3                Ya          3.5      DKV\n",
       "1            Belum     Others  UKM_2             Tidak          4.0    FIKOM\n",
       "2          Bekerja   Beasiswa  UKM_4             Tidak          4.5    FIKOM\n",
       "3            Belum   Beasiswa  UKM_1             Tidak          5.5      DKV\n",
       "4          Bekerja     Others  Tidak                Ya          6.5      DKV\n",
       "...            ...        ...    ...               ...          ...      ...\n",
       "11494        Belum  Orang Tua  UKM_3                Ya          4.5    FIKOM\n",
       "11495      Bekerja   Beasiswa  Tidak             Tidak          3.5      DKV\n",
       "11496      Bekerja   Beasiswa  UKM_2                Ya          5.0       FT\n",
       "11497      Bekerja     Others  UKM_4             Tidak          4.5      DKV\n",
       "11498        Belum     Others  UKM_2                Ya          4.5    FIKOM\n",
       "\n",
       "[11499 rows x 6 columns]"
      ]
     },
     "execution_count": 28,
     "metadata": {},
     "output_type": "execute_result"
    }
   ],
   "source": [
    "# check df\n",
    "df2"
   ]
  },
  {
   "cell_type": "code",
   "execution_count": 29,
   "id": "hAR_FeNO_U0x",
   "metadata": {
    "colab": {
     "base_uri": "https://localhost:8080/"
    },
    "executionInfo": {
     "elapsed": 24,
     "status": "ok",
     "timestamp": 1662649329917,
     "user": {
      "displayName": "Ahmad Habib Hasan Zein",
      "userId": "06743622963259718983"
     },
     "user_tz": -420
    },
    "id": "hAR_FeNO_U0x",
    "outputId": "feb7c077-1d3c-4ccc-f69b-0b3155f37d32"
   },
   "outputs": [
    {
     "name": "stdout",
     "output_type": "stream",
     "text": [
      "Categorical columns           : ['Status_Kerja', 'Biaya', 'UKM', 'Organisasi_Kampus', 'Fakultas']\n",
      "Categorical columns position  : [0, 1, 2, 3, 5]\n"
     ]
    }
   ],
   "source": [
    "# Get the position of categorical columns\n",
    "catColumnsPos = [df2.columns.get_loc(col) for col in list(df2.select_dtypes('object').columns)]\n",
    "print('Categorical columns           : {}'.format(list(df2.select_dtypes('object').columns)))\n",
    "print('Categorical columns position  : {}'.format(catColumnsPos))"
   ]
  },
  {
   "cell_type": "code",
   "execution_count": 30,
   "id": "GsXZuLiC_ati",
   "metadata": {
    "colab": {
     "base_uri": "https://localhost:8080/"
    },
    "executionInfo": {
     "elapsed": 21,
     "status": "ok",
     "timestamp": 1662649329917,
     "user": {
      "displayName": "Ahmad Habib Hasan Zein",
      "userId": "06743622963259718983"
     },
     "user_tz": -420
    },
    "id": "GsXZuLiC_ati",
    "outputId": "c53a0a84-5aaa-4166-c8e5-a4bded83ffb5"
   },
   "outputs": [
    {
     "data": {
      "text/plain": [
       "array([['Belum', 'Beasiswa', 'UKM_3', 'Ya', 3.5, 'DKV'],\n",
       "       ['Belum', 'Others', 'UKM_2', 'Tidak', 4.0, 'FIKOM'],\n",
       "       ['Bekerja', 'Beasiswa', 'UKM_4', 'Tidak', 4.5, 'FIKOM'],\n",
       "       ...,\n",
       "       ['Bekerja', 'Beasiswa', 'UKM_2', 'Ya', 5.0, 'FT'],\n",
       "       ['Bekerja', 'Others', 'UKM_4', 'Tidak', 4.5, 'DKV'],\n",
       "       ['Belum', 'Others', 'UKM_2', 'Ya', 4.5, 'FIKOM']], dtype=object)"
      ]
     },
     "execution_count": 30,
     "metadata": {},
     "output_type": "execute_result"
    }
   ],
   "source": [
    "# df to matrix\n",
    "dfMatrix = df2.to_numpy()\n",
    "dfMatrix"
   ]
  },
  {
   "cell_type": "code",
   "execution_count": 31,
   "id": "6Y-uweOE_hya",
   "metadata": {
    "colab": {
     "base_uri": "https://localhost:8080/"
    },
    "executionInfo": {
     "elapsed": 964503,
     "status": "ok",
     "timestamp": 1662650294402,
     "user": {
      "displayName": "Ahmad Habib Hasan Zein",
      "userId": "06743622963259718983"
     },
     "user_tz": -420
    },
    "id": "6Y-uweOE_hya",
    "outputId": "41e2a3b7-4005-407d-d609-422e92d8457a"
   },
   "outputs": [
    {
     "name": "stdout",
     "output_type": "stream",
     "text": [
      "Cluster initiation: 1\n",
      "Cluster initiation: 2\n",
      "Cluster initiation: 3\n",
      "Cluster initiation: 4\n",
      "Cluster initiation: 5\n",
      "Cluster initiation: 6\n",
      "Cluster initiation: 7\n",
      "Cluster initiation: 8\n",
      "Cluster initiation: 9\n"
     ]
    }
   ],
   "source": [
    "# Choose optimal K using Elbow method\n",
    "cost = []\n",
    "for cluster in range(1, 10):\n",
    "    try:\n",
    "        kprototype = KPrototypes(n_jobs = -1, n_clusters = cluster, init = 'Huang', random_state = 0)\n",
    "        kprototype.fit_predict(dfMatrix, categorical = catColumnsPos)\n",
    "        cost.append(kprototype.cost_)\n",
    "        print('Cluster initiation: {}'.format(cluster))\n",
    "    except:\n",
    "        break"
   ]
  },
  {
   "cell_type": "code",
   "execution_count": 32,
   "id": "nV3qGux_AzPc",
   "metadata": {
    "colab": {
     "base_uri": "https://localhost:8080/"
    },
    "executionInfo": {
     "elapsed": 13,
     "status": "ok",
     "timestamp": 1662650294403,
     "user": {
      "displayName": "Ahmad Habib Hasan Zein",
      "userId": "06743622963259718983"
     },
     "user_tz": -420
    },
    "id": "nV3qGux_AzPc",
    "outputId": "2b750f88-1a05-4650-df14-73f72beed968"
   },
   "outputs": [
    {
     "data": {
      "text/plain": [
       "[36360.86479901432,\n",
       " 24647.30094100115,\n",
       " 21799.828390856852,\n",
       " 20106.629688957164,\n",
       " 18821.887521021068,\n",
       " 17873.01722894947,\n",
       " 17314.548304183216,\n",
       " 16810.54146358192,\n",
       " 16224.750865486674]"
      ]
     },
     "execution_count": 32,
     "metadata": {},
     "output_type": "execute_result"
    }
   ],
   "source": [
    "cost"
   ]
  },
  {
   "cell_type": "code",
   "execution_count": 33,
   "id": "LsXOduNUHb2h",
   "metadata": {
    "executionInfo": {
     "elapsed": 10,
     "status": "ok",
     "timestamp": 1662650294403,
     "user": {
      "displayName": "Ahmad Habib Hasan Zein",
      "userId": "06743622963259718983"
     },
     "user_tz": -420
    },
    "id": "LsXOduNUHb2h"
   },
   "outputs": [],
   "source": [
    "# Converting the results into a dataframe and plotting them\n",
    "df_cost = pd.DataFrame({'Cluster':range(1, 10), 'Cost':cost})"
   ]
  },
  {
   "cell_type": "code",
   "execution_count": 34,
   "id": "B4d2BoruHhMF",
   "metadata": {
    "colab": {
     "base_uri": "https://localhost:8080/",
     "height": 331
    },
    "executionInfo": {
     "elapsed": 10,
     "status": "ok",
     "timestamp": 1662650294404,
     "user": {
      "displayName": "Ahmad Habib Hasan Zein",
      "userId": "06743622963259718983"
     },
     "user_tz": -420
    },
    "id": "B4d2BoruHhMF",
    "outputId": "9da836b3-fc17-4fb7-ba2f-0cd47f7d3109"
   },
   "outputs": [
    {
     "data": {
      "text/html": [
       "<div>\n",
       "<style scoped>\n",
       "    .dataframe tbody tr th:only-of-type {\n",
       "        vertical-align: middle;\n",
       "    }\n",
       "\n",
       "    .dataframe tbody tr th {\n",
       "        vertical-align: top;\n",
       "    }\n",
       "\n",
       "    .dataframe thead th {\n",
       "        text-align: right;\n",
       "    }\n",
       "</style>\n",
       "<table border=\"1\" class=\"dataframe\">\n",
       "  <thead>\n",
       "    <tr style=\"text-align: right;\">\n",
       "      <th></th>\n",
       "      <th>Cluster</th>\n",
       "      <th>Cost</th>\n",
       "    </tr>\n",
       "  </thead>\n",
       "  <tbody>\n",
       "    <tr>\n",
       "      <th>0</th>\n",
       "      <td>1</td>\n",
       "      <td>36360.864799</td>\n",
       "    </tr>\n",
       "    <tr>\n",
       "      <th>1</th>\n",
       "      <td>2</td>\n",
       "      <td>24647.300941</td>\n",
       "    </tr>\n",
       "    <tr>\n",
       "      <th>2</th>\n",
       "      <td>3</td>\n",
       "      <td>21799.828391</td>\n",
       "    </tr>\n",
       "    <tr>\n",
       "      <th>3</th>\n",
       "      <td>4</td>\n",
       "      <td>20106.629689</td>\n",
       "    </tr>\n",
       "    <tr>\n",
       "      <th>4</th>\n",
       "      <td>5</td>\n",
       "      <td>18821.887521</td>\n",
       "    </tr>\n",
       "    <tr>\n",
       "      <th>5</th>\n",
       "      <td>6</td>\n",
       "      <td>17873.017229</td>\n",
       "    </tr>\n",
       "    <tr>\n",
       "      <th>6</th>\n",
       "      <td>7</td>\n",
       "      <td>17314.548304</td>\n",
       "    </tr>\n",
       "    <tr>\n",
       "      <th>7</th>\n",
       "      <td>8</td>\n",
       "      <td>16810.541464</td>\n",
       "    </tr>\n",
       "    <tr>\n",
       "      <th>8</th>\n",
       "      <td>9</td>\n",
       "      <td>16224.750865</td>\n",
       "    </tr>\n",
       "  </tbody>\n",
       "</table>\n",
       "</div>"
      ],
      "text/plain": [
       "   Cluster          Cost\n",
       "0        1  36360.864799\n",
       "1        2  24647.300941\n",
       "2        3  21799.828391\n",
       "3        4  20106.629689\n",
       "4        5  18821.887521\n",
       "5        6  17873.017229\n",
       "6        7  17314.548304\n",
       "7        8  16810.541464\n",
       "8        9  16224.750865"
      ]
     },
     "execution_count": 34,
     "metadata": {},
     "output_type": "execute_result"
    }
   ],
   "source": [
    "# Check result\n",
    "df_cost"
   ]
  },
  {
   "cell_type": "code",
   "execution_count": 35,
   "id": "IOr1261lHpUM",
   "metadata": {
    "colab": {
     "base_uri": "https://localhost:8080/",
     "height": 295
    },
    "executionInfo": {
     "elapsed": 11,
     "status": "ok",
     "timestamp": 1662650294405,
     "user": {
      "displayName": "Ahmad Habib Hasan Zein",
      "userId": "06743622963259718983"
     },
     "user_tz": -420
    },
    "id": "IOr1261lHpUM",
    "outputId": "7b744456-f269-4130-b9b7-77563e7e698c"
   },
   "outputs": [
    {
     "data": {
      "image/png": "[encoded data removed]",
      "text/plain": [
       "<Figure size 432x288 with 1 Axes>"
      ]
     },
     "metadata": {
      "needs_background": "light"
     },
     "output_type": "display_data"
    }
   ],
   "source": [
    "#plot cost\n",
    "plt.plot(df_cost[\"Cluster\"], df_cost[\"Cost\"], 'bx-')\n",
    "plt.xlabel('No. of clusters')\n",
    "plt.ylabel('Cost')\n",
    "plt.title('Elbow Method For Optimal k')\n",
    "plt.show()"
   ]
  },
  {
   "cell_type": "code",
   "execution_count": 36,
   "id": "4MdpEAWyIPIS",
   "metadata": {
    "colab": {
     "base_uri": "https://localhost:8080/"
    },
    "executionInfo": {
     "elapsed": 83255,
     "status": "ok",
     "timestamp": 1662650377650,
     "user": {
      "displayName": "Ahmad Habib Hasan Zein",
      "userId": "06743622963259718983"
     },
     "user_tz": -420
    },
    "id": "4MdpEAWyIPIS",
    "outputId": "de345fd1-e12d-49df-8ce8-d0e432562ecf"
   },
   "outputs": [
    {
     "data": {
      "text/plain": [
       "array([1, 1, 1, ..., 0, 1, 0], dtype=uint16)"
      ]
     },
     "execution_count": 36,
     "metadata": {},
     "output_type": "execute_result"
    }
   ],
   "source": [
    "# Fit Cluster\n",
    "kprototype = KPrototypes(n_jobs = -1, n_clusters = 3, init = 'Huang', random_state = 0)\n",
    "kprototype.fit_predict(dfMatrix, categorical = catColumnsPos)"
   ]
  },
  {
   "cell_type": "code",
   "execution_count": 37,
   "id": "qSe8wh1LIeXa",
   "metadata": {
    "colab": {
     "base_uri": "https://localhost:8080/"
    },
    "executionInfo": {
     "elapsed": 33,
     "status": "ok",
     "timestamp": 1662650377651,
     "user": {
      "displayName": "Ahmad Habib Hasan Zein",
      "userId": "06743622963259718983"
     },
     "user_tz": -420
    },
    "id": "qSe8wh1LIeXa",
    "outputId": "5e1cf02e-89c7-43d2-fea2-bcdf6f9b74ab"
   },
   "outputs": [
    {
     "data": {
      "text/plain": [
       "21799.828390856852"
      ]
     },
     "execution_count": 37,
     "metadata": {},
     "output_type": "execute_result"
    }
   ],
   "source": [
    "# Check information cluster\n",
    "# Cost\n",
    "kprototype.cost_"
   ]
  },
  {
   "cell_type": "code",
   "execution_count": 38,
   "id": "AHXCwi73JF2-",
   "metadata": {
    "colab": {
     "base_uri": "https://localhost:8080/"
    },
    "executionInfo": {
     "elapsed": 31,
     "status": "ok",
     "timestamp": 1662650377651,
     "user": {
      "displayName": "Ahmad Habib Hasan Zein",
      "userId": "06743622963259718983"
     },
     "user_tz": -420
    },
    "id": "AHXCwi73JF2-",
    "outputId": "896f4990-cc6f-40d3-d4b8-6657bc736ac4"
   },
   "outputs": [
    {
     "data": {
      "text/plain": [
       "array([['5.212875304300784', 'Belum', 'Orang Tua', 'UKM_2', 'Ya', 'FTI'],\n",
       "       ['4.01220138710506', 'Bekerja', 'Beasiswa', 'UKM_4', 'Tidak',\n",
       "        'FISIP'],\n",
       "       ['6.505500127909952', 'Bekerja', 'Orang Tua', 'Tidak', 'Tidak',\n",
       "        'FIKOM']], dtype='<U32')"
      ]
     },
     "execution_count": 38,
     "metadata": {},
     "output_type": "execute_result"
    }
   ],
   "source": [
    "# Centroid\n",
    "kprototype.cluster_centroids_"
   ]
  },
  {
   "cell_type": "code",
   "execution_count": 39,
   "id": "dq06-gD8I2dp",
   "metadata": {
    "executionInfo": {
     "elapsed": 28,
     "status": "ok",
     "timestamp": 1662650377651,
     "user": {
      "displayName": "Ahmad Habib Hasan Zein",
      "userId": "06743622963259718983"
     },
     "user_tz": -420
    },
    "id": "dq06-gD8I2dp"
   },
   "outputs": [],
   "source": [
    "# Add the cluster to the dataframe\n",
    "df['Cluster'] = kprototype.labels_\n",
    "df['Cluster label'] = df['Cluster'].map({0:'First', 1:'Second', 2:'Third'})"
   ]
  },
  {
   "cell_type": "code",
   "execution_count": 40,
   "id": "zy4xUR9QJI2G",
   "metadata": {
    "colab": {
     "base_uri": "https://localhost:8080/",
     "height": 0
    },
    "executionInfo": {
     "elapsed": 29,
     "status": "ok",
     "timestamp": 1662650377653,
     "user": {
      "displayName": "Ahmad Habib Hasan Zein",
      "userId": "06743622963259718983"
     },
     "user_tz": -420
    },
    "id": "zy4xUR9QJI2G",
    "outputId": "c465d688-a542-4795-8ef9-cac8d5ea5d2e"
   },
   "outputs": [
    {
     "data": {
      "text/html": [
       "<div>\n",
       "<style scoped>\n",
       "    .dataframe tbody tr th:only-of-type {\n",
       "        vertical-align: middle;\n",
       "    }\n",
       "\n",
       "    .dataframe tbody tr th {\n",
       "        vertical-align: top;\n",
       "    }\n",
       "\n",
       "    .dataframe thead th {\n",
       "        text-align: right;\n",
       "    }\n",
       "</style>\n",
       "<table border=\"1\" class=\"dataframe\">\n",
       "  <thead>\n",
       "    <tr style=\"text-align: right;\">\n",
       "      <th></th>\n",
       "      <th>Nama</th>\n",
       "      <th>Gender</th>\n",
       "      <th>Tinggal_Dengan</th>\n",
       "      <th>Status_Kerja</th>\n",
       "      <th>Biaya</th>\n",
       "      <th>Tgl_Daftar_Kuliah</th>\n",
       "      <th>Alamat</th>\n",
       "      <th>UKM</th>\n",
       "      <th>Organisasi_Kampus</th>\n",
       "      <th>Lama_Kuliah</th>\n",
       "      <th>Fakultas</th>\n",
       "      <th>Cluster</th>\n",
       "      <th>Cluster label</th>\n",
       "    </tr>\n",
       "  </thead>\n",
       "  <tbody>\n",
       "    <tr>\n",
       "      <th>0</th>\n",
       "      <td>Abbey Butler</td>\n",
       "      <td>Pria</td>\n",
       "      <td>Kos</td>\n",
       "      <td>Belum</td>\n",
       "      <td>Beasiswa</td>\n",
       "      <td>2008</td>\n",
       "      <td>Tangerang</td>\n",
       "      <td>UKM_3</td>\n",
       "      <td>Ya</td>\n",
       "      <td>3.5</td>\n",
       "      <td>DKV</td>\n",
       "      <td>1</td>\n",
       "      <td>Second</td>\n",
       "    </tr>\n",
       "    <tr>\n",
       "      <th>1</th>\n",
       "      <td>Abbey Carpenter</td>\n",
       "      <td>Wanita</td>\n",
       "      <td>Others</td>\n",
       "      <td>Belum</td>\n",
       "      <td>Others</td>\n",
       "      <td>2009</td>\n",
       "      <td>Bekasi</td>\n",
       "      <td>UKM_2</td>\n",
       "      <td>Tidak</td>\n",
       "      <td>4.0</td>\n",
       "      <td>FIKOM</td>\n",
       "      <td>1</td>\n",
       "      <td>Second</td>\n",
       "    </tr>\n",
       "    <tr>\n",
       "      <th>2</th>\n",
       "      <td>Abbey Dubois</td>\n",
       "      <td>Wanita</td>\n",
       "      <td>Others</td>\n",
       "      <td>Bekerja</td>\n",
       "      <td>Beasiswa</td>\n",
       "      <td>2008</td>\n",
       "      <td>Serang</td>\n",
       "      <td>UKM_4</td>\n",
       "      <td>Tidak</td>\n",
       "      <td>4.5</td>\n",
       "      <td>FIKOM</td>\n",
       "      <td>1</td>\n",
       "      <td>Second</td>\n",
       "    </tr>\n",
       "    <tr>\n",
       "      <th>3</th>\n",
       "      <td>Abbey Gosling</td>\n",
       "      <td>Wanita</td>\n",
       "      <td>Orang Tua</td>\n",
       "      <td>Belum</td>\n",
       "      <td>Beasiswa</td>\n",
       "      <td>2009</td>\n",
       "      <td>Serang</td>\n",
       "      <td>UKM_1</td>\n",
       "      <td>Tidak</td>\n",
       "      <td>5.5</td>\n",
       "      <td>DKV</td>\n",
       "      <td>0</td>\n",
       "      <td>First</td>\n",
       "    </tr>\n",
       "    <tr>\n",
       "      <th>4</th>\n",
       "      <td>Abbey Logan</td>\n",
       "      <td>Wanita</td>\n",
       "      <td>Orang Tua</td>\n",
       "      <td>Bekerja</td>\n",
       "      <td>Others</td>\n",
       "      <td>2009</td>\n",
       "      <td>Bekasi</td>\n",
       "      <td>Tidak</td>\n",
       "      <td>Ya</td>\n",
       "      <td>6.5</td>\n",
       "      <td>DKV</td>\n",
       "      <td>2</td>\n",
       "      <td>Third</td>\n",
       "    </tr>\n",
       "    <tr>\n",
       "      <th>...</th>\n",
       "      <td>...</td>\n",
       "      <td>...</td>\n",
       "      <td>...</td>\n",
       "      <td>...</td>\n",
       "      <td>...</td>\n",
       "      <td>...</td>\n",
       "      <td>...</td>\n",
       "      <td>...</td>\n",
       "      <td>...</td>\n",
       "      <td>...</td>\n",
       "      <td>...</td>\n",
       "      <td>...</td>\n",
       "      <td>...</td>\n",
       "    </tr>\n",
       "    <tr>\n",
       "      <th>11494</th>\n",
       "      <td>Carter Downing</td>\n",
       "      <td>Pria</td>\n",
       "      <td>Orang Tua</td>\n",
       "      <td>Belum</td>\n",
       "      <td>Orang Tua</td>\n",
       "      <td>2009</td>\n",
       "      <td>Tangerang</td>\n",
       "      <td>UKM_3</td>\n",
       "      <td>Ya</td>\n",
       "      <td>4.5</td>\n",
       "      <td>FIKOM</td>\n",
       "      <td>0</td>\n",
       "      <td>First</td>\n",
       "    </tr>\n",
       "    <tr>\n",
       "      <th>11495</th>\n",
       "      <td>Carter Driscoll</td>\n",
       "      <td>Wanita</td>\n",
       "      <td>Others</td>\n",
       "      <td>Bekerja</td>\n",
       "      <td>Beasiswa</td>\n",
       "      <td>2008</td>\n",
       "      <td>Karawang</td>\n",
       "      <td>Tidak</td>\n",
       "      <td>Tidak</td>\n",
       "      <td>3.5</td>\n",
       "      <td>DKV</td>\n",
       "      <td>1</td>\n",
       "      <td>Second</td>\n",
       "    </tr>\n",
       "    <tr>\n",
       "      <th>11496</th>\n",
       "      <td>Carter Drummond</td>\n",
       "      <td>Wanita</td>\n",
       "      <td>Kos</td>\n",
       "      <td>Bekerja</td>\n",
       "      <td>Beasiswa</td>\n",
       "      <td>2007</td>\n",
       "      <td>Bogor</td>\n",
       "      <td>UKM_2</td>\n",
       "      <td>Ya</td>\n",
       "      <td>5.0</td>\n",
       "      <td>FT</td>\n",
       "      <td>0</td>\n",
       "      <td>First</td>\n",
       "    </tr>\n",
       "    <tr>\n",
       "      <th>11497</th>\n",
       "      <td>Carter Dubois</td>\n",
       "      <td>Wanita</td>\n",
       "      <td>Kos</td>\n",
       "      <td>Bekerja</td>\n",
       "      <td>Others</td>\n",
       "      <td>2007</td>\n",
       "      <td>Karawang</td>\n",
       "      <td>UKM_4</td>\n",
       "      <td>Tidak</td>\n",
       "      <td>4.5</td>\n",
       "      <td>DKV</td>\n",
       "      <td>1</td>\n",
       "      <td>Second</td>\n",
       "    </tr>\n",
       "    <tr>\n",
       "      <th>11498</th>\n",
       "      <td>Carter Edley</td>\n",
       "      <td>Wanita</td>\n",
       "      <td>Kos</td>\n",
       "      <td>Belum</td>\n",
       "      <td>Others</td>\n",
       "      <td>2008</td>\n",
       "      <td>Bekasi</td>\n",
       "      <td>UKM_2</td>\n",
       "      <td>Ya</td>\n",
       "      <td>4.5</td>\n",
       "      <td>FIKOM</td>\n",
       "      <td>0</td>\n",
       "      <td>First</td>\n",
       "    </tr>\n",
       "  </tbody>\n",
       "</table>\n",
       "<p>11499 rows × 13 columns</p>\n",
       "</div>"
      ],
      "text/plain": [
       "                  Nama  Gender Tinggal_Dengan Status_Kerja      Biaya  \\\n",
       "0         Abbey Butler    Pria            Kos        Belum   Beasiswa   \n",
       "1      Abbey Carpenter  Wanita         Others        Belum     Others   \n",
       "2         Abbey Dubois  Wanita         Others      Bekerja   Beasiswa   \n",
       "3        Abbey Gosling  Wanita      Orang Tua        Belum   Beasiswa   \n",
       "4          Abbey Logan  Wanita      Orang Tua      Bekerja     Others   \n",
       "...                ...     ...            ...          ...        ...   \n",
       "11494   Carter Downing    Pria      Orang Tua        Belum  Orang Tua   \n",
       "11495  Carter Driscoll  Wanita         Others      Bekerja   Beasiswa   \n",
       "11496  Carter Drummond  Wanita            Kos      Bekerja   Beasiswa   \n",
       "11497    Carter Dubois  Wanita            Kos      Bekerja     Others   \n",
       "11498     Carter Edley  Wanita            Kos        Belum     Others   \n",
       "\n",
       "       Tgl_Daftar_Kuliah     Alamat    UKM Organisasi_Kampus  Lama_Kuliah  \\\n",
       "0                   2008  Tangerang  UKM_3                Ya          3.5   \n",
       "1                   2009     Bekasi  UKM_2             Tidak          4.0   \n",
       "2                   2008     Serang  UKM_4             Tidak          4.5   \n",
       "3                   2009     Serang  UKM_1             Tidak          5.5   \n",
       "4                   2009     Bekasi  Tidak                Ya          6.5   \n",
       "...                  ...        ...    ...               ...          ...   \n",
       "11494               2009  Tangerang  UKM_3                Ya          4.5   \n",
       "11495               2008   Karawang  Tidak             Tidak          3.5   \n",
       "11496               2007      Bogor  UKM_2                Ya          5.0   \n",
       "11497               2007   Karawang  UKM_4             Tidak          4.5   \n",
       "11498               2008     Bekasi  UKM_2                Ya          4.5   \n",
       "\n",
       "      Fakultas  Cluster Cluster label  \n",
       "0          DKV        1        Second  \n",
       "1        FIKOM        1        Second  \n",
       "2        FIKOM        1        Second  \n",
       "3          DKV        0         First  \n",
       "4          DKV        2         Third  \n",
       "...        ...      ...           ...  \n",
       "11494    FIKOM        0         First  \n",
       "11495      DKV        1        Second  \n",
       "11496       FT        0         First  \n",
       "11497      DKV        1        Second  \n",
       "11498    FIKOM        0         First  \n",
       "\n",
       "[11499 rows x 13 columns]"
      ]
     },
     "execution_count": 40,
     "metadata": {},
     "output_type": "execute_result"
    }
   ],
   "source": [
    "df"
   ]
  },
  {
   "cell_type": "code",
   "execution_count": 41,
   "id": "YO017NG2JT0h",
   "metadata": {
    "colab": {
     "base_uri": "https://localhost:8080/",
     "height": 0
    },
    "executionInfo": {
     "elapsed": 28,
     "status": "ok",
     "timestamp": 1662650377653,
     "user": {
      "displayName": "Ahmad Habib Hasan Zein",
      "userId": "06743622963259718983"
     },
     "user_tz": -420
    },
    "id": "YO017NG2JT0h",
    "outputId": "4c27835c-2ef1-481f-eaff-81549a00ab07"
   },
   "outputs": [
    {
     "data": {
      "text/plain": [
       "<AxesSubplot:title={'center':'Frekuensi Status Cluster label'}>"
      ]
     },
     "execution_count": 41,
     "metadata": {},
     "output_type": "execute_result"
    },
    {
     "data": {
      "image/png": "[encoded data removed]",
      "text/plain": [
       "<Figure size 432x288 with 1 Axes>"
      ]
     },
     "metadata": {
      "needs_background": "light"
     },
     "output_type": "display_data"
    }
   ],
   "source": [
    "# Persebaran cluster\n",
    "df[\"Cluster label\"].value_counts().plot(kind=\"bar\",title=\"Frekuensi Status Cluster label\")"
   ]
  },
  {
   "cell_type": "code",
   "execution_count": 42,
   "id": "bjC2VWEFJi8l",
   "metadata": {
    "executionInfo": {
     "elapsed": 26,
     "status": "ok",
     "timestamp": 1662650377654,
     "user": {
      "displayName": "Ahmad Habib Hasan Zein",
      "userId": "06743622963259718983"
     },
     "user_tz": -420
    },
    "id": "bjC2VWEFJi8l"
   },
   "outputs": [],
   "source": [
    "# Filtering data\n",
    "Cluster1 = df.loc[df[\"Cluster label\"]==\"First\"]\n",
    "Cluster2 = df.loc[df[\"Cluster label\"]==\"Second\"]\n",
    "Cluster3 = df.loc[df[\"Cluster label\"]==\"Third\"] "
   ]
  },
  {
   "cell_type": "markdown",
   "id": "957cb2d7-411e-453d-a5e2-b62f93e1016f",
   "metadata": {},
   "source": [
    "## Summary Per Cluster"
   ]
  },
  {
   "cell_type": "code",
   "execution_count": 43,
   "id": "1eMdPkCQK5Hi",
   "metadata": {
    "colab": {
     "base_uri": "https://localhost:8080/",
     "height": 0
    },
    "executionInfo": {
     "elapsed": 26,
     "status": "ok",
     "timestamp": 1662650377654,
     "user": {
      "displayName": "Ahmad Habib Hasan Zein",
      "userId": "06743622963259718983"
     },
     "user_tz": -420
    },
    "id": "1eMdPkCQK5Hi",
    "outputId": "311de066-fa60-4424-be94-e9182b6603d2"
   },
   "outputs": [
    {
     "data": {
      "text/html": [
       "<div>\n",
       "<style scoped>\n",
       "    .dataframe tbody tr th:only-of-type {\n",
       "        vertical-align: middle;\n",
       "    }\n",
       "\n",
       "    .dataframe tbody tr th {\n",
       "        vertical-align: top;\n",
       "    }\n",
       "\n",
       "    .dataframe thead th {\n",
       "        text-align: right;\n",
       "    }\n",
       "</style>\n",
       "<table border=\"1\" class=\"dataframe\">\n",
       "  <thead>\n",
       "    <tr style=\"text-align: right;\">\n",
       "      <th></th>\n",
       "      <th>Nama</th>\n",
       "      <th>Gender</th>\n",
       "      <th>Tinggal_Dengan</th>\n",
       "      <th>Status_Kerja</th>\n",
       "      <th>Biaya</th>\n",
       "      <th>Tgl_Daftar_Kuliah</th>\n",
       "      <th>Alamat</th>\n",
       "      <th>UKM</th>\n",
       "      <th>Organisasi_Kampus</th>\n",
       "      <th>Lama_Kuliah</th>\n",
       "      <th>Fakultas</th>\n",
       "      <th>Cluster</th>\n",
       "      <th>Cluster label</th>\n",
       "    </tr>\n",
       "  </thead>\n",
       "  <tbody>\n",
       "    <tr>\n",
       "      <th>count</th>\n",
       "      <td>3697</td>\n",
       "      <td>3697</td>\n",
       "      <td>3697</td>\n",
       "      <td>3697</td>\n",
       "      <td>3697</td>\n",
       "      <td>3697.000000</td>\n",
       "      <td>3697</td>\n",
       "      <td>3697</td>\n",
       "      <td>3697</td>\n",
       "      <td>3697.000000</td>\n",
       "      <td>3697</td>\n",
       "      <td>3697.0</td>\n",
       "      <td>3697</td>\n",
       "    </tr>\n",
       "    <tr>\n",
       "      <th>unique</th>\n",
       "      <td>3498</td>\n",
       "      <td>2</td>\n",
       "      <td>3</td>\n",
       "      <td>2</td>\n",
       "      <td>3</td>\n",
       "      <td>NaN</td>\n",
       "      <td>6</td>\n",
       "      <td>5</td>\n",
       "      <td>2</td>\n",
       "      <td>NaN</td>\n",
       "      <td>5</td>\n",
       "      <td>NaN</td>\n",
       "      <td>1</td>\n",
       "    </tr>\n",
       "    <tr>\n",
       "      <th>top</th>\n",
       "      <td>Anabel Richards</td>\n",
       "      <td>Pria</td>\n",
       "      <td>Others</td>\n",
       "      <td>Belum</td>\n",
       "      <td>Orang Tua</td>\n",
       "      <td>NaN</td>\n",
       "      <td>Bogor</td>\n",
       "      <td>UKM_2</td>\n",
       "      <td>Ya</td>\n",
       "      <td>NaN</td>\n",
       "      <td>FTI</td>\n",
       "      <td>NaN</td>\n",
       "      <td>First</td>\n",
       "    </tr>\n",
       "    <tr>\n",
       "      <th>freq</th>\n",
       "      <td>2</td>\n",
       "      <td>1885</td>\n",
       "      <td>1279</td>\n",
       "      <td>2535</td>\n",
       "      <td>1493</td>\n",
       "      <td>NaN</td>\n",
       "      <td>648</td>\n",
       "      <td>1064</td>\n",
       "      <td>2540</td>\n",
       "      <td>NaN</td>\n",
       "      <td>1024</td>\n",
       "      <td>NaN</td>\n",
       "      <td>3697</td>\n",
       "    </tr>\n",
       "    <tr>\n",
       "      <th>mean</th>\n",
       "      <td>NaN</td>\n",
       "      <td>NaN</td>\n",
       "      <td>NaN</td>\n",
       "      <td>NaN</td>\n",
       "      <td>NaN</td>\n",
       "      <td>2007.996484</td>\n",
       "      <td>NaN</td>\n",
       "      <td>NaN</td>\n",
       "      <td>NaN</td>\n",
       "      <td>5.212875</td>\n",
       "      <td>NaN</td>\n",
       "      <td>0.0</td>\n",
       "      <td>NaN</td>\n",
       "    </tr>\n",
       "    <tr>\n",
       "      <th>std</th>\n",
       "      <td>NaN</td>\n",
       "      <td>NaN</td>\n",
       "      <td>NaN</td>\n",
       "      <td>NaN</td>\n",
       "      <td>NaN</td>\n",
       "      <td>0.816323</td>\n",
       "      <td>NaN</td>\n",
       "      <td>NaN</td>\n",
       "      <td>NaN</td>\n",
       "      <td>0.558040</td>\n",
       "      <td>NaN</td>\n",
       "      <td>0.0</td>\n",
       "      <td>NaN</td>\n",
       "    </tr>\n",
       "    <tr>\n",
       "      <th>min</th>\n",
       "      <td>NaN</td>\n",
       "      <td>NaN</td>\n",
       "      <td>NaN</td>\n",
       "      <td>NaN</td>\n",
       "      <td>NaN</td>\n",
       "      <td>2007.000000</td>\n",
       "      <td>NaN</td>\n",
       "      <td>NaN</td>\n",
       "      <td>NaN</td>\n",
       "      <td>3.500000</td>\n",
       "      <td>NaN</td>\n",
       "      <td>0.0</td>\n",
       "      <td>NaN</td>\n",
       "    </tr>\n",
       "    <tr>\n",
       "      <th>25%</th>\n",
       "      <td>NaN</td>\n",
       "      <td>NaN</td>\n",
       "      <td>NaN</td>\n",
       "      <td>NaN</td>\n",
       "      <td>NaN</td>\n",
       "      <td>2007.000000</td>\n",
       "      <td>NaN</td>\n",
       "      <td>NaN</td>\n",
       "      <td>NaN</td>\n",
       "      <td>5.000000</td>\n",
       "      <td>NaN</td>\n",
       "      <td>0.0</td>\n",
       "      <td>NaN</td>\n",
       "    </tr>\n",
       "    <tr>\n",
       "      <th>50%</th>\n",
       "      <td>NaN</td>\n",
       "      <td>NaN</td>\n",
       "      <td>NaN</td>\n",
       "      <td>NaN</td>\n",
       "      <td>NaN</td>\n",
       "      <td>2008.000000</td>\n",
       "      <td>NaN</td>\n",
       "      <td>NaN</td>\n",
       "      <td>NaN</td>\n",
       "      <td>5.000000</td>\n",
       "      <td>NaN</td>\n",
       "      <td>0.0</td>\n",
       "      <td>NaN</td>\n",
       "    </tr>\n",
       "    <tr>\n",
       "      <th>75%</th>\n",
       "      <td>NaN</td>\n",
       "      <td>NaN</td>\n",
       "      <td>NaN</td>\n",
       "      <td>NaN</td>\n",
       "      <td>NaN</td>\n",
       "      <td>2009.000000</td>\n",
       "      <td>NaN</td>\n",
       "      <td>NaN</td>\n",
       "      <td>NaN</td>\n",
       "      <td>5.500000</td>\n",
       "      <td>NaN</td>\n",
       "      <td>0.0</td>\n",
       "      <td>NaN</td>\n",
       "    </tr>\n",
       "    <tr>\n",
       "      <th>max</th>\n",
       "      <td>NaN</td>\n",
       "      <td>NaN</td>\n",
       "      <td>NaN</td>\n",
       "      <td>NaN</td>\n",
       "      <td>NaN</td>\n",
       "      <td>2009.000000</td>\n",
       "      <td>NaN</td>\n",
       "      <td>NaN</td>\n",
       "      <td>NaN</td>\n",
       "      <td>6.500000</td>\n",
       "      <td>NaN</td>\n",
       "      <td>0.0</td>\n",
       "      <td>NaN</td>\n",
       "    </tr>\n",
       "  </tbody>\n",
       "</table>\n",
       "</div>"
      ],
      "text/plain": [
       "                   Nama Gender Tinggal_Dengan Status_Kerja      Biaya  \\\n",
       "count              3697   3697           3697         3697       3697   \n",
       "unique             3498      2              3            2          3   \n",
       "top     Anabel Richards   Pria         Others        Belum  Orang Tua   \n",
       "freq                  2   1885           1279         2535       1493   \n",
       "mean                NaN    NaN            NaN          NaN        NaN   \n",
       "std                 NaN    NaN            NaN          NaN        NaN   \n",
       "min                 NaN    NaN            NaN          NaN        NaN   \n",
       "25%                 NaN    NaN            NaN          NaN        NaN   \n",
       "50%                 NaN    NaN            NaN          NaN        NaN   \n",
       "75%                 NaN    NaN            NaN          NaN        NaN   \n",
       "max                 NaN    NaN            NaN          NaN        NaN   \n",
       "\n",
       "        Tgl_Daftar_Kuliah Alamat    UKM Organisasi_Kampus  Lama_Kuliah  \\\n",
       "count         3697.000000   3697   3697              3697  3697.000000   \n",
       "unique                NaN      6      5                 2          NaN   \n",
       "top                   NaN  Bogor  UKM_2                Ya          NaN   \n",
       "freq                  NaN    648   1064              2540          NaN   \n",
       "mean          2007.996484    NaN    NaN               NaN     5.212875   \n",
       "std              0.816323    NaN    NaN               NaN     0.558040   \n",
       "min           2007.000000    NaN    NaN               NaN     3.500000   \n",
       "25%           2007.000000    NaN    NaN               NaN     5.000000   \n",
       "50%           2008.000000    NaN    NaN               NaN     5.000000   \n",
       "75%           2009.000000    NaN    NaN               NaN     5.500000   \n",
       "max           2009.000000    NaN    NaN               NaN     6.500000   \n",
       "\n",
       "       Fakultas  Cluster Cluster label  \n",
       "count      3697   3697.0          3697  \n",
       "unique        5      NaN             1  \n",
       "top         FTI      NaN         First  \n",
       "freq       1024      NaN          3697  \n",
       "mean        NaN      0.0           NaN  \n",
       "std         NaN      0.0           NaN  \n",
       "min         NaN      0.0           NaN  \n",
       "25%         NaN      0.0           NaN  \n",
       "50%         NaN      0.0           NaN  \n",
       "75%         NaN      0.0           NaN  \n",
       "max         NaN      0.0           NaN  "
      ]
     },
     "execution_count": 43,
     "metadata": {},
     "output_type": "execute_result"
    }
   ],
   "source": [
    "# Check\n",
    "Cluster1.describe(include='all') "
   ]
  },
  {
   "cell_type": "code",
   "execution_count": 44,
   "id": "1XECW3oULVdb",
   "metadata": {
    "colab": {
     "base_uri": "https://localhost:8080/",
     "height": 0
    },
    "executionInfo": {
     "elapsed": 25,
     "status": "ok",
     "timestamp": 1662650377654,
     "user": {
      "displayName": "Ahmad Habib Hasan Zein",
      "userId": "06743622963259718983"
     },
     "user_tz": -420
    },
    "id": "1XECW3oULVdb",
    "outputId": "39812160-c5b3-4951-c32c-b575a67d8596"
   },
   "outputs": [
    {
     "data": {
      "text/html": [
       "<div>\n",
       "<style scoped>\n",
       "    .dataframe tbody tr th:only-of-type {\n",
       "        vertical-align: middle;\n",
       "    }\n",
       "\n",
       "    .dataframe tbody tr th {\n",
       "        vertical-align: top;\n",
       "    }\n",
       "\n",
       "    .dataframe thead th {\n",
       "        text-align: right;\n",
       "    }\n",
       "</style>\n",
       "<table border=\"1\" class=\"dataframe\">\n",
       "  <thead>\n",
       "    <tr style=\"text-align: right;\">\n",
       "      <th></th>\n",
       "      <th>Nama</th>\n",
       "      <th>Gender</th>\n",
       "      <th>Tinggal_Dengan</th>\n",
       "      <th>Status_Kerja</th>\n",
       "      <th>Biaya</th>\n",
       "      <th>Tgl_Daftar_Kuliah</th>\n",
       "      <th>Alamat</th>\n",
       "      <th>UKM</th>\n",
       "      <th>Organisasi_Kampus</th>\n",
       "      <th>Lama_Kuliah</th>\n",
       "      <th>Fakultas</th>\n",
       "      <th>Cluster</th>\n",
       "      <th>Cluster label</th>\n",
       "    </tr>\n",
       "  </thead>\n",
       "  <tbody>\n",
       "    <tr>\n",
       "      <th>count</th>\n",
       "      <td>3893</td>\n",
       "      <td>3893</td>\n",
       "      <td>3893</td>\n",
       "      <td>3893</td>\n",
       "      <td>3893</td>\n",
       "      <td>3893.000000</td>\n",
       "      <td>3893</td>\n",
       "      <td>3893</td>\n",
       "      <td>3893</td>\n",
       "      <td>3893.000000</td>\n",
       "      <td>3893</td>\n",
       "      <td>3893.0</td>\n",
       "      <td>3893</td>\n",
       "    </tr>\n",
       "    <tr>\n",
       "      <th>unique</th>\n",
       "      <td>3687</td>\n",
       "      <td>2</td>\n",
       "      <td>3</td>\n",
       "      <td>2</td>\n",
       "      <td>3</td>\n",
       "      <td>NaN</td>\n",
       "      <td>6</td>\n",
       "      <td>5</td>\n",
       "      <td>2</td>\n",
       "      <td>NaN</td>\n",
       "      <td>5</td>\n",
       "      <td>NaN</td>\n",
       "      <td>1</td>\n",
       "    </tr>\n",
       "    <tr>\n",
       "      <th>top</th>\n",
       "      <td>Carl Yard</td>\n",
       "      <td>Wanita</td>\n",
       "      <td>Others</td>\n",
       "      <td>Bekerja</td>\n",
       "      <td>Beasiswa</td>\n",
       "      <td>NaN</td>\n",
       "      <td>Tangerang</td>\n",
       "      <td>UKM_4</td>\n",
       "      <td>Tidak</td>\n",
       "      <td>NaN</td>\n",
       "      <td>FISIP</td>\n",
       "      <td>NaN</td>\n",
       "      <td>Second</td>\n",
       "    </tr>\n",
       "    <tr>\n",
       "      <th>freq</th>\n",
       "      <td>2</td>\n",
       "      <td>1990</td>\n",
       "      <td>1347</td>\n",
       "      <td>2297</td>\n",
       "      <td>1552</td>\n",
       "      <td>NaN</td>\n",
       "      <td>689</td>\n",
       "      <td>894</td>\n",
       "      <td>2344</td>\n",
       "      <td>NaN</td>\n",
       "      <td>925</td>\n",
       "      <td>NaN</td>\n",
       "      <td>3893</td>\n",
       "    </tr>\n",
       "    <tr>\n",
       "      <th>mean</th>\n",
       "      <td>NaN</td>\n",
       "      <td>NaN</td>\n",
       "      <td>NaN</td>\n",
       "      <td>NaN</td>\n",
       "      <td>NaN</td>\n",
       "      <td>2008.003339</td>\n",
       "      <td>NaN</td>\n",
       "      <td>NaN</td>\n",
       "      <td>NaN</td>\n",
       "      <td>4.012201</td>\n",
       "      <td>NaN</td>\n",
       "      <td>1.0</td>\n",
       "      <td>NaN</td>\n",
       "    </tr>\n",
       "    <tr>\n",
       "      <th>std</th>\n",
       "      <td>NaN</td>\n",
       "      <td>NaN</td>\n",
       "      <td>NaN</td>\n",
       "      <td>NaN</td>\n",
       "      <td>NaN</td>\n",
       "      <td>0.818428</td>\n",
       "      <td>NaN</td>\n",
       "      <td>NaN</td>\n",
       "      <td>NaN</td>\n",
       "      <td>0.477438</td>\n",
       "      <td>NaN</td>\n",
       "      <td>0.0</td>\n",
       "      <td>NaN</td>\n",
       "    </tr>\n",
       "    <tr>\n",
       "      <th>min</th>\n",
       "      <td>NaN</td>\n",
       "      <td>NaN</td>\n",
       "      <td>NaN</td>\n",
       "      <td>NaN</td>\n",
       "      <td>NaN</td>\n",
       "      <td>2007.000000</td>\n",
       "      <td>NaN</td>\n",
       "      <td>NaN</td>\n",
       "      <td>NaN</td>\n",
       "      <td>3.500000</td>\n",
       "      <td>NaN</td>\n",
       "      <td>1.0</td>\n",
       "      <td>NaN</td>\n",
       "    </tr>\n",
       "    <tr>\n",
       "      <th>25%</th>\n",
       "      <td>NaN</td>\n",
       "      <td>NaN</td>\n",
       "      <td>NaN</td>\n",
       "      <td>NaN</td>\n",
       "      <td>NaN</td>\n",
       "      <td>2007.000000</td>\n",
       "      <td>NaN</td>\n",
       "      <td>NaN</td>\n",
       "      <td>NaN</td>\n",
       "      <td>3.500000</td>\n",
       "      <td>NaN</td>\n",
       "      <td>1.0</td>\n",
       "      <td>NaN</td>\n",
       "    </tr>\n",
       "    <tr>\n",
       "      <th>50%</th>\n",
       "      <td>NaN</td>\n",
       "      <td>NaN</td>\n",
       "      <td>NaN</td>\n",
       "      <td>NaN</td>\n",
       "      <td>NaN</td>\n",
       "      <td>2008.000000</td>\n",
       "      <td>NaN</td>\n",
       "      <td>NaN</td>\n",
       "      <td>NaN</td>\n",
       "      <td>4.000000</td>\n",
       "      <td>NaN</td>\n",
       "      <td>1.0</td>\n",
       "      <td>NaN</td>\n",
       "    </tr>\n",
       "    <tr>\n",
       "      <th>75%</th>\n",
       "      <td>NaN</td>\n",
       "      <td>NaN</td>\n",
       "      <td>NaN</td>\n",
       "      <td>NaN</td>\n",
       "      <td>NaN</td>\n",
       "      <td>2009.000000</td>\n",
       "      <td>NaN</td>\n",
       "      <td>NaN</td>\n",
       "      <td>NaN</td>\n",
       "      <td>4.500000</td>\n",
       "      <td>NaN</td>\n",
       "      <td>1.0</td>\n",
       "      <td>NaN</td>\n",
       "    </tr>\n",
       "    <tr>\n",
       "      <th>max</th>\n",
       "      <td>NaN</td>\n",
       "      <td>NaN</td>\n",
       "      <td>NaN</td>\n",
       "      <td>NaN</td>\n",
       "      <td>NaN</td>\n",
       "      <td>2009.000000</td>\n",
       "      <td>NaN</td>\n",
       "      <td>NaN</td>\n",
       "      <td>NaN</td>\n",
       "      <td>5.500000</td>\n",
       "      <td>NaN</td>\n",
       "      <td>1.0</td>\n",
       "      <td>NaN</td>\n",
       "    </tr>\n",
       "  </tbody>\n",
       "</table>\n",
       "</div>"
      ],
      "text/plain": [
       "             Nama  Gender Tinggal_Dengan Status_Kerja     Biaya  \\\n",
       "count        3893    3893           3893         3893      3893   \n",
       "unique       3687       2              3            2         3   \n",
       "top     Carl Yard  Wanita         Others      Bekerja  Beasiswa   \n",
       "freq            2    1990           1347         2297      1552   \n",
       "mean          NaN     NaN            NaN          NaN       NaN   \n",
       "std           NaN     NaN            NaN          NaN       NaN   \n",
       "min           NaN     NaN            NaN          NaN       NaN   \n",
       "25%           NaN     NaN            NaN          NaN       NaN   \n",
       "50%           NaN     NaN            NaN          NaN       NaN   \n",
       "75%           NaN     NaN            NaN          NaN       NaN   \n",
       "max           NaN     NaN            NaN          NaN       NaN   \n",
       "\n",
       "        Tgl_Daftar_Kuliah     Alamat    UKM Organisasi_Kampus  Lama_Kuliah  \\\n",
       "count         3893.000000       3893   3893              3893  3893.000000   \n",
       "unique                NaN          6      5                 2          NaN   \n",
       "top                   NaN  Tangerang  UKM_4             Tidak          NaN   \n",
       "freq                  NaN        689    894              2344          NaN   \n",
       "mean          2008.003339        NaN    NaN               NaN     4.012201   \n",
       "std              0.818428        NaN    NaN               NaN     0.477438   \n",
       "min           2007.000000        NaN    NaN               NaN     3.500000   \n",
       "25%           2007.000000        NaN    NaN               NaN     3.500000   \n",
       "50%           2008.000000        NaN    NaN               NaN     4.000000   \n",
       "75%           2009.000000        NaN    NaN               NaN     4.500000   \n",
       "max           2009.000000        NaN    NaN               NaN     5.500000   \n",
       "\n",
       "       Fakultas  Cluster Cluster label  \n",
       "count      3893   3893.0          3893  \n",
       "unique        5      NaN             1  \n",
       "top       FISIP      NaN        Second  \n",
       "freq        925      NaN          3893  \n",
       "mean        NaN      1.0           NaN  \n",
       "std         NaN      0.0           NaN  \n",
       "min         NaN      1.0           NaN  \n",
       "25%         NaN      1.0           NaN  \n",
       "50%         NaN      1.0           NaN  \n",
       "75%         NaN      1.0           NaN  \n",
       "max         NaN      1.0           NaN  "
      ]
     },
     "execution_count": 44,
     "metadata": {},
     "output_type": "execute_result"
    }
   ],
   "source": [
    "Cluster2.describe(include='all') "
   ]
  },
  {
   "cell_type": "code",
   "execution_count": 45,
   "id": "qH7IqRviLXsy",
   "metadata": {
    "colab": {
     "base_uri": "https://localhost:8080/",
     "height": 0
    },
    "executionInfo": {
     "elapsed": 24,
     "status": "ok",
     "timestamp": 1662650377655,
     "user": {
      "displayName": "Ahmad Habib Hasan Zein",
      "userId": "06743622963259718983"
     },
     "user_tz": -420
    },
    "id": "qH7IqRviLXsy",
    "outputId": "e4bcaf8d-27dc-4338-822f-392a66d08509"
   },
   "outputs": [
    {
     "data": {
      "text/html": [
       "<div>\n",
       "<style scoped>\n",
       "    .dataframe tbody tr th:only-of-type {\n",
       "        vertical-align: middle;\n",
       "    }\n",
       "\n",
       "    .dataframe tbody tr th {\n",
       "        vertical-align: top;\n",
       "    }\n",
       "\n",
       "    .dataframe thead th {\n",
       "        text-align: right;\n",
       "    }\n",
       "</style>\n",
       "<table border=\"1\" class=\"dataframe\">\n",
       "  <thead>\n",
       "    <tr style=\"text-align: right;\">\n",
       "      <th></th>\n",
       "      <th>Nama</th>\n",
       "      <th>Gender</th>\n",
       "      <th>Tinggal_Dengan</th>\n",
       "      <th>Status_Kerja</th>\n",
       "      <th>Biaya</th>\n",
       "      <th>Tgl_Daftar_Kuliah</th>\n",
       "      <th>Alamat</th>\n",
       "      <th>UKM</th>\n",
       "      <th>Organisasi_Kampus</th>\n",
       "      <th>Lama_Kuliah</th>\n",
       "      <th>Fakultas</th>\n",
       "      <th>Cluster</th>\n",
       "      <th>Cluster label</th>\n",
       "    </tr>\n",
       "  </thead>\n",
       "  <tbody>\n",
       "    <tr>\n",
       "      <th>count</th>\n",
       "      <td>3909</td>\n",
       "      <td>3909</td>\n",
       "      <td>3909</td>\n",
       "      <td>3909</td>\n",
       "      <td>3909</td>\n",
       "      <td>3909.000000</td>\n",
       "      <td>3909</td>\n",
       "      <td>3909</td>\n",
       "      <td>3909</td>\n",
       "      <td>3909.000000</td>\n",
       "      <td>3909</td>\n",
       "      <td>3909.0</td>\n",
       "      <td>3909</td>\n",
       "    </tr>\n",
       "    <tr>\n",
       "      <th>unique</th>\n",
       "      <td>3709</td>\n",
       "      <td>2</td>\n",
       "      <td>3</td>\n",
       "      <td>2</td>\n",
       "      <td>3</td>\n",
       "      <td>NaN</td>\n",
       "      <td>6</td>\n",
       "      <td>5</td>\n",
       "      <td>2</td>\n",
       "      <td>NaN</td>\n",
       "      <td>5</td>\n",
       "      <td>NaN</td>\n",
       "      <td>1</td>\n",
       "    </tr>\n",
       "    <tr>\n",
       "      <th>top</th>\n",
       "      <td>Abbey Logan</td>\n",
       "      <td>Pria</td>\n",
       "      <td>Others</td>\n",
       "      <td>Bekerja</td>\n",
       "      <td>Orang Tua</td>\n",
       "      <td>NaN</td>\n",
       "      <td>Bogor</td>\n",
       "      <td>Tidak</td>\n",
       "      <td>Tidak</td>\n",
       "      <td>NaN</td>\n",
       "      <td>FIKOM</td>\n",
       "      <td>NaN</td>\n",
       "      <td>Third</td>\n",
       "    </tr>\n",
       "    <tr>\n",
       "      <th>freq</th>\n",
       "      <td>2</td>\n",
       "      <td>1961</td>\n",
       "      <td>1356</td>\n",
       "      <td>2346</td>\n",
       "      <td>1318</td>\n",
       "      <td>NaN</td>\n",
       "      <td>668</td>\n",
       "      <td>900</td>\n",
       "      <td>2295</td>\n",
       "      <td>NaN</td>\n",
       "      <td>896</td>\n",
       "      <td>NaN</td>\n",
       "      <td>3909</td>\n",
       "    </tr>\n",
       "    <tr>\n",
       "      <th>mean</th>\n",
       "      <td>NaN</td>\n",
       "      <td>NaN</td>\n",
       "      <td>NaN</td>\n",
       "      <td>NaN</td>\n",
       "      <td>NaN</td>\n",
       "      <td>2007.989256</td>\n",
       "      <td>NaN</td>\n",
       "      <td>NaN</td>\n",
       "      <td>NaN</td>\n",
       "      <td>6.505500</td>\n",
       "      <td>NaN</td>\n",
       "      <td>2.0</td>\n",
       "      <td>NaN</td>\n",
       "    </tr>\n",
       "    <tr>\n",
       "      <th>std</th>\n",
       "      <td>NaN</td>\n",
       "      <td>NaN</td>\n",
       "      <td>NaN</td>\n",
       "      <td>NaN</td>\n",
       "      <td>NaN</td>\n",
       "      <td>0.815276</td>\n",
       "      <td>NaN</td>\n",
       "      <td>NaN</td>\n",
       "      <td>NaN</td>\n",
       "      <td>0.468597</td>\n",
       "      <td>NaN</td>\n",
       "      <td>0.0</td>\n",
       "      <td>NaN</td>\n",
       "    </tr>\n",
       "    <tr>\n",
       "      <th>min</th>\n",
       "      <td>NaN</td>\n",
       "      <td>NaN</td>\n",
       "      <td>NaN</td>\n",
       "      <td>NaN</td>\n",
       "      <td>NaN</td>\n",
       "      <td>2007.000000</td>\n",
       "      <td>NaN</td>\n",
       "      <td>NaN</td>\n",
       "      <td>NaN</td>\n",
       "      <td>5.000000</td>\n",
       "      <td>NaN</td>\n",
       "      <td>2.0</td>\n",
       "      <td>NaN</td>\n",
       "    </tr>\n",
       "    <tr>\n",
       "      <th>25%</th>\n",
       "      <td>NaN</td>\n",
       "      <td>NaN</td>\n",
       "      <td>NaN</td>\n",
       "      <td>NaN</td>\n",
       "      <td>NaN</td>\n",
       "      <td>2007.000000</td>\n",
       "      <td>NaN</td>\n",
       "      <td>NaN</td>\n",
       "      <td>NaN</td>\n",
       "      <td>6.000000</td>\n",
       "      <td>NaN</td>\n",
       "      <td>2.0</td>\n",
       "      <td>NaN</td>\n",
       "    </tr>\n",
       "    <tr>\n",
       "      <th>50%</th>\n",
       "      <td>NaN</td>\n",
       "      <td>NaN</td>\n",
       "      <td>NaN</td>\n",
       "      <td>NaN</td>\n",
       "      <td>NaN</td>\n",
       "      <td>2008.000000</td>\n",
       "      <td>NaN</td>\n",
       "      <td>NaN</td>\n",
       "      <td>NaN</td>\n",
       "      <td>6.500000</td>\n",
       "      <td>NaN</td>\n",
       "      <td>2.0</td>\n",
       "      <td>NaN</td>\n",
       "    </tr>\n",
       "    <tr>\n",
       "      <th>75%</th>\n",
       "      <td>NaN</td>\n",
       "      <td>NaN</td>\n",
       "      <td>NaN</td>\n",
       "      <td>NaN</td>\n",
       "      <td>NaN</td>\n",
       "      <td>2009.000000</td>\n",
       "      <td>NaN</td>\n",
       "      <td>NaN</td>\n",
       "      <td>NaN</td>\n",
       "      <td>7.000000</td>\n",
       "      <td>NaN</td>\n",
       "      <td>2.0</td>\n",
       "      <td>NaN</td>\n",
       "    </tr>\n",
       "    <tr>\n",
       "      <th>max</th>\n",
       "      <td>NaN</td>\n",
       "      <td>NaN</td>\n",
       "      <td>NaN</td>\n",
       "      <td>NaN</td>\n",
       "      <td>NaN</td>\n",
       "      <td>2009.000000</td>\n",
       "      <td>NaN</td>\n",
       "      <td>NaN</td>\n",
       "      <td>NaN</td>\n",
       "      <td>7.000000</td>\n",
       "      <td>NaN</td>\n",
       "      <td>2.0</td>\n",
       "      <td>NaN</td>\n",
       "    </tr>\n",
       "  </tbody>\n",
       "</table>\n",
       "</div>"
      ],
      "text/plain": [
       "               Nama Gender Tinggal_Dengan Status_Kerja      Biaya  \\\n",
       "count          3909   3909           3909         3909       3909   \n",
       "unique         3709      2              3            2          3   \n",
       "top     Abbey Logan   Pria         Others      Bekerja  Orang Tua   \n",
       "freq              2   1961           1356         2346       1318   \n",
       "mean            NaN    NaN            NaN          NaN        NaN   \n",
       "std             NaN    NaN            NaN          NaN        NaN   \n",
       "min             NaN    NaN            NaN          NaN        NaN   \n",
       "25%             NaN    NaN            NaN          NaN        NaN   \n",
       "50%             NaN    NaN            NaN          NaN        NaN   \n",
       "75%             NaN    NaN            NaN          NaN        NaN   \n",
       "max             NaN    NaN            NaN          NaN        NaN   \n",
       "\n",
       "        Tgl_Daftar_Kuliah Alamat    UKM Organisasi_Kampus  Lama_Kuliah  \\\n",
       "count         3909.000000   3909   3909              3909  3909.000000   \n",
       "unique                NaN      6      5                 2          NaN   \n",
       "top                   NaN  Bogor  Tidak             Tidak          NaN   \n",
       "freq                  NaN    668    900              2295          NaN   \n",
       "mean          2007.989256    NaN    NaN               NaN     6.505500   \n",
       "std              0.815276    NaN    NaN               NaN     0.468597   \n",
       "min           2007.000000    NaN    NaN               NaN     5.000000   \n",
       "25%           2007.000000    NaN    NaN               NaN     6.000000   \n",
       "50%           2008.000000    NaN    NaN               NaN     6.500000   \n",
       "75%           2009.000000    NaN    NaN               NaN     7.000000   \n",
       "max           2009.000000    NaN    NaN               NaN     7.000000   \n",
       "\n",
       "       Fakultas  Cluster Cluster label  \n",
       "count      3909   3909.0          3909  \n",
       "unique        5      NaN             1  \n",
       "top       FIKOM      NaN         Third  \n",
       "freq        896      NaN          3909  \n",
       "mean        NaN      2.0           NaN  \n",
       "std         NaN      0.0           NaN  \n",
       "min         NaN      2.0           NaN  \n",
       "25%         NaN      2.0           NaN  \n",
       "50%         NaN      2.0           NaN  \n",
       "75%         NaN      2.0           NaN  \n",
       "max         NaN      2.0           NaN  "
      ]
     },
     "execution_count": 45,
     "metadata": {},
     "output_type": "execute_result"
    }
   ],
   "source": [
    "Cluster3.describe(include='all') "
   ]
  },
  {
   "cell_type": "markdown",
   "id": "w-u24eY8opJj",
   "metadata": {
    "id": "w-u24eY8opJj"
   },
   "source": [
    "# Cluster 1"
   ]
  },
  {
   "cell_type": "markdown",
   "id": "33fa071b-c646-42a3-a1e7-3c8c4def26a1",
   "metadata": {
    "tags": []
   },
   "source": [
    "## Status Tinggal Dengan"
   ]
  },
  {
   "cell_type": "code",
   "execution_count": 46,
   "id": "Iur94Y3TosP-",
   "metadata": {
    "id": "Iur94Y3TosP-"
   },
   "outputs": [
    {
     "data": {
      "text/plain": [
       "<AxesSubplot:title={'center':'Frekuensi Status Tinggal Cluster 1'}>"
      ]
     },
     "execution_count": 46,
     "metadata": {},
     "output_type": "execute_result"
    },
    {
     "data": {
      "image/png": "[encoded data removed]",
      "text/plain": [
       "<Figure size 432x288 with 1 Axes>"
      ]
     },
     "metadata": {
      "needs_background": "light"
     },
     "output_type": "display_data"
    }
   ],
   "source": [
    "# Persebaran cluster\n",
    "Cluster1[\"Tinggal_Dengan\"].value_counts().plot(kind=\"bar\",title=\"Frekuensi Status Tinggal Cluster 1\")"
   ]
  },
  {
   "cell_type": "code",
   "execution_count": 47,
   "id": "6bc4d85a-3c31-4ccb-9139-f1b70c15a358",
   "metadata": {},
   "outputs": [
    {
     "data": {
      "text/plain": [
       "Others       1279\n",
       "Orang Tua    1227\n",
       "Kos          1191\n",
       "Name: Tinggal_Dengan, dtype: int64"
      ]
     },
     "execution_count": 47,
     "metadata": {},
     "output_type": "execute_result"
    }
   ],
   "source": [
    "Cluster1[\"Tinggal_Dengan\"].value_counts()"
   ]
  },
  {
   "cell_type": "markdown",
   "id": "7bd5e129-663c-44bf-9670-4beee8125df1",
   "metadata": {
    "tags": []
   },
   "source": [
    "## Status Kerja"
   ]
  },
  {
   "cell_type": "code",
   "execution_count": 48,
   "id": "b87fbce9-05aa-45ed-928f-d0c363e565b9",
   "metadata": {},
   "outputs": [
    {
     "data": {
      "text/plain": [
       "<AxesSubplot:title={'center':'Frekuensi Status Kerja Cluster 1'}>"
      ]
     },
     "execution_count": 48,
     "metadata": {},
     "output_type": "execute_result"
    },
    {
     "data": {
      "image/png": "[encoded data removed]",
      "text/plain": [
       "<Figure size 432x288 with 1 Axes>"
      ]
     },
     "metadata": {
      "needs_background": "light"
     },
     "output_type": "display_data"
    }
   ],
   "source": [
    "Cluster1[\"Status_Kerja\"].value_counts().plot(kind=\"bar\",title=\"Frekuensi Status Kerja Cluster 1\")"
   ]
  },
  {
   "cell_type": "code",
   "execution_count": 49,
   "id": "aa1b1b20-2dc6-4970-9d9b-7767f61b1633",
   "metadata": {},
   "outputs": [
    {
     "data": {
      "text/plain": [
       "Belum      2535\n",
       "Bekerja    1162\n",
       "Name: Status_Kerja, dtype: int64"
      ]
     },
     "execution_count": 49,
     "metadata": {},
     "output_type": "execute_result"
    }
   ],
   "source": [
    "Cluster1[\"Status_Kerja\"].value_counts()"
   ]
  },
  {
   "cell_type": "markdown",
   "id": "29995c06-e412-42d5-a88e-fd1b55bf5ae9",
   "metadata": {
    "tags": []
   },
   "source": [
    "## Status Biaya Kuliah"
   ]
  },
  {
   "cell_type": "code",
   "execution_count": 50,
   "id": "70c73001-db17-4e30-91e7-d0384c0f352f",
   "metadata": {},
   "outputs": [
    {
     "data": {
      "text/plain": [
       "<AxesSubplot:title={'center':'Frekuensi Status Biaya Cluster 1'}>"
      ]
     },
     "execution_count": 50,
     "metadata": {},
     "output_type": "execute_result"
    },
    {
     "data": {
      "image/png": "[encoded data removed]",
      "text/plain": [
       "<Figure size 432x288 with 1 Axes>"
      ]
     },
     "metadata": {
      "needs_background": "light"
     },
     "output_type": "display_data"
    }
   ],
   "source": [
    "Cluster1[\"Biaya\"].value_counts().plot(kind=\"bar\",title=\"Frekuensi Status Biaya Cluster 1\")"
   ]
  },
  {
   "cell_type": "code",
   "execution_count": 51,
   "id": "f635e3da-0c34-4cf8-bf01-1c44ea73292a",
   "metadata": {},
   "outputs": [
    {
     "data": {
      "text/plain": [
       "Orang Tua    1493\n",
       "Others       1196\n",
       "Beasiswa     1008\n",
       "Name: Biaya, dtype: int64"
      ]
     },
     "execution_count": 51,
     "metadata": {},
     "output_type": "execute_result"
    }
   ],
   "source": [
    "Cluster1[\"Biaya\"].value_counts()"
   ]
  },
  {
   "cell_type": "markdown",
   "id": "fbc76023-3d4f-4086-ae5b-4946970bb4dd",
   "metadata": {
    "tags": []
   },
   "source": [
    "## Status Alamat"
   ]
  },
  {
   "cell_type": "code",
   "execution_count": 52,
   "id": "c7ee697f-4d58-4af9-9dc9-0bb54274c33d",
   "metadata": {},
   "outputs": [
    {
     "data": {
      "text/plain": [
       "<AxesSubplot:title={'center':'Frekuensi Alamat Cluster 1'}>"
      ]
     },
     "execution_count": 52,
     "metadata": {},
     "output_type": "execute_result"
    },
    {
     "data": {
      "image/png": "[encoded data removed]",
      "text/plain": [
       "<Figure size 432x288 with 1 Axes>"
      ]
     },
     "metadata": {
      "needs_background": "light"
     },
     "output_type": "display_data"
    }
   ],
   "source": [
    "Cluster1[\"Alamat\"].value_counts().plot(kind=\"bar\",title=\"Frekuensi Alamat Cluster 1\")"
   ]
  },
  {
   "cell_type": "code",
   "execution_count": 53,
   "id": "644eb2e9-c5a8-411b-87e8-f5475dd3944b",
   "metadata": {},
   "outputs": [
    {
     "data": {
      "text/plain": [
       "Bogor        648\n",
       "Jakarta      642\n",
       "Tangerang    622\n",
       "Bekasi       605\n",
       "Serang       592\n",
       "Karawang     588\n",
       "Name: Alamat, dtype: int64"
      ]
     },
     "execution_count": 53,
     "metadata": {},
     "output_type": "execute_result"
    }
   ],
   "source": [
    "Cluster1[\"Alamat\"].value_counts()"
   ]
  },
  {
   "cell_type": "markdown",
   "id": "cee3a367-6c1b-40a1-80e4-ca693075b408",
   "metadata": {
    "tags": []
   },
   "source": [
    "## Status UKM"
   ]
  },
  {
   "cell_type": "code",
   "execution_count": 54,
   "id": "f43c5887-2319-4b48-a6d1-ad31820b990c",
   "metadata": {},
   "outputs": [
    {
     "data": {
      "text/plain": [
       "<AxesSubplot:title={'center':'Frekuensi UKM Cluster 1'}>"
      ]
     },
     "execution_count": 54,
     "metadata": {},
     "output_type": "execute_result"
    },
    {
     "data": {
      "image/png": "[encoded data removed]",
      "text/plain": [
       "<Figure size 432x288 with 1 Axes>"
      ]
     },
     "metadata": {
      "needs_background": "light"
     },
     "output_type": "display_data"
    }
   ],
   "source": [
    "Cluster1[\"UKM\"].value_counts().plot(kind=\"bar\",title=\"Frekuensi UKM Cluster 1\")"
   ]
  },
  {
   "cell_type": "code",
   "execution_count": 55,
   "id": "d9a132f6-e6c3-4357-8472-7ef3ee5ac304",
   "metadata": {},
   "outputs": [
    {
     "data": {
      "text/plain": [
       "UKM_2    1064\n",
       "UKM_3     748\n",
       "UKM_1     735\n",
       "Tidak     602\n",
       "UKM_4     548\n",
       "Name: UKM, dtype: int64"
      ]
     },
     "execution_count": 55,
     "metadata": {},
     "output_type": "execute_result"
    }
   ],
   "source": [
    "Cluster1[\"UKM\"].value_counts()"
   ]
  },
  {
   "cell_type": "markdown",
   "id": "5ab37615-1fb5-43f7-b300-0662b681499c",
   "metadata": {
    "tags": []
   },
   "source": [
    "## Status Organisasi Kampus"
   ]
  },
  {
   "cell_type": "code",
   "execution_count": 56,
   "id": "4018a4c3-46d2-4415-9490-8c3e823fa252",
   "metadata": {},
   "outputs": [
    {
     "data": {
      "text/plain": [
       "<AxesSubplot:title={'center':'Frekuensi Organisasi_Kampus Cluster 1'}>"
      ]
     },
     "execution_count": 56,
     "metadata": {},
     "output_type": "execute_result"
    },
    {
     "data": {
      "image/png": "[encoded data removed]",
      "text/plain": [
       "<Figure size 432x288 with 1 Axes>"
      ]
     },
     "metadata": {
      "needs_background": "light"
     },
     "output_type": "display_data"
    }
   ],
   "source": [
    "Cluster1[\"Organisasi_Kampus\"].value_counts().plot(kind=\"bar\",title=\"Frekuensi Organisasi_Kampus Cluster 1\")"
   ]
  },
  {
   "cell_type": "code",
   "execution_count": 57,
   "id": "2fe39c17-b4f7-4f4e-ae24-677979bf7d0c",
   "metadata": {},
   "outputs": [
    {
     "data": {
      "text/plain": [
       "Ya       2540\n",
       "Tidak    1157\n",
       "Name: Organisasi_Kampus, dtype: int64"
      ]
     },
     "execution_count": 57,
     "metadata": {},
     "output_type": "execute_result"
    }
   ],
   "source": [
    "Cluster1[\"Organisasi_Kampus\"].value_counts()"
   ]
  },
  {
   "cell_type": "markdown",
   "id": "5d0428da-7707-429b-a879-a8d17957a8dc",
   "metadata": {
    "tags": []
   },
   "source": [
    "## Lama_Kuliah"
   ]
  },
  {
   "cell_type": "code",
   "execution_count": 58,
   "id": "987c1a44-329d-417a-b8f4-c34559a84180",
   "metadata": {},
   "outputs": [
    {
     "data": {
      "image/png": "[encoded data removed]",
      "text/plain": [
       "<Figure size 432x288 with 1 Axes>"
      ]
     },
     "metadata": {
      "needs_background": "light"
     },
     "output_type": "display_data"
    }
   ],
   "source": [
    "# Boxplot Lama Kuliah\n",
    "plt.boxplot(Cluster1[\"Lama_Kuliah\"])\n",
    "plt.xlabel(\"Lama_Kuliah\")\n",
    "plt.ylabel(\"Value\")\n",
    "plt.title(\"Boxplot Lama Kuliah Cluster 1\")\n",
    "plt.show() "
   ]
  },
  {
   "cell_type": "markdown",
   "id": "e3c80e33-3b0f-4bc0-8191-5b55e7ba36d7",
   "metadata": {
    "tags": []
   },
   "source": [
    "# Cluster 2"
   ]
  },
  {
   "cell_type": "markdown",
   "id": "7e3ea866-a415-45f4-83c2-40175d178e4d",
   "metadata": {
    "tags": []
   },
   "source": [
    "## Status Tinggal"
   ]
  },
  {
   "cell_type": "code",
   "execution_count": 59,
   "id": "dbcf5ec6-74df-46a5-ba3d-b38dc0ceadc1",
   "metadata": {},
   "outputs": [
    {
     "data": {
      "text/plain": [
       "<AxesSubplot:title={'center':'Frekuensi Status Tinggal Cluster 2'}>"
      ]
     },
     "execution_count": 59,
     "metadata": {},
     "output_type": "execute_result"
    },
    {
     "data": {
      "image/png": "[encoded data removed]",
      "text/plain": [
       "<Figure size 432x288 with 1 Axes>"
      ]
     },
     "metadata": {
      "needs_background": "light"
     },
     "output_type": "display_data"
    }
   ],
   "source": [
    "# Persebaran cluster\n",
    "Cluster2[\"Tinggal_Dengan\"].value_counts().plot(kind=\"bar\",title=\"Frekuensi Status Tinggal Cluster 2\")"
   ]
  },
  {
   "cell_type": "code",
   "execution_count": 60,
   "id": "85b9d971-3b44-44fc-8b05-8d722e102383",
   "metadata": {},
   "outputs": [
    {
     "data": {
      "text/plain": [
       "Others       1347\n",
       "Orang Tua    1282\n",
       "Kos          1264\n",
       "Name: Tinggal_Dengan, dtype: int64"
      ]
     },
     "execution_count": 60,
     "metadata": {},
     "output_type": "execute_result"
    }
   ],
   "source": [
    "Cluster2[\"Tinggal_Dengan\"].value_counts()"
   ]
  },
  {
   "cell_type": "markdown",
   "id": "b0902a89-753a-4e8f-89e1-b8feb22adfdb",
   "metadata": {},
   "source": [
    "## Status Kerja"
   ]
  },
  {
   "cell_type": "code",
   "execution_count": 61,
   "id": "f19577c3-fe39-4e67-a2d2-837d81a6ff8d",
   "metadata": {},
   "outputs": [
    {
     "data": {
      "text/plain": [
       "<AxesSubplot:title={'center':'Frekuensi Status Kerja Cluster 2'}>"
      ]
     },
     "execution_count": 61,
     "metadata": {},
     "output_type": "execute_result"
    },
    {
     "data": {
      "image/png": "[encoded data removed]",
      "text/plain": [
       "<Figure size 432x288 with 1 Axes>"
      ]
     },
     "metadata": {
      "needs_background": "light"
     },
     "output_type": "display_data"
    }
   ],
   "source": [
    "Cluster2[\"Status_Kerja\"].value_counts().plot(kind=\"bar\",title=\"Frekuensi Status Kerja Cluster 2\")"
   ]
  },
  {
   "cell_type": "code",
   "execution_count": 62,
   "id": "1a56b0e5-b691-4061-a603-3e11e63b7bab",
   "metadata": {},
   "outputs": [
    {
     "data": {
      "text/plain": [
       "Bekerja    2297\n",
       "Belum      1596\n",
       "Name: Status_Kerja, dtype: int64"
      ]
     },
     "execution_count": 62,
     "metadata": {},
     "output_type": "execute_result"
    }
   ],
   "source": [
    "Cluster2[\"Status_Kerja\"].value_counts()"
   ]
  },
  {
   "cell_type": "markdown",
   "id": "bde31108-65e0-4fd4-9d2c-dfe3a0b49ecd",
   "metadata": {},
   "source": [
    "## Status Biaya Kuliah"
   ]
  },
  {
   "cell_type": "code",
   "execution_count": 63,
   "id": "3e43ae2e-6e2d-4f9f-b62c-ad64a9187c17",
   "metadata": {},
   "outputs": [
    {
     "data": {
      "text/plain": [
       "<AxesSubplot:title={'center':'Frekuensi Status Biaya Cluster 2'}>"
      ]
     },
     "execution_count": 63,
     "metadata": {},
     "output_type": "execute_result"
    },
    {
     "data": {
      "image/png": "[encoded data removed]",
      "text/plain": [
       "<Figure size 432x288 with 1 Axes>"
      ]
     },
     "metadata": {
      "needs_background": "light"
     },
     "output_type": "display_data"
    }
   ],
   "source": [
    "Cluster2[\"Biaya\"].value_counts().plot(kind=\"bar\",title=\"Frekuensi Status Biaya Cluster 2\")"
   ]
  },
  {
   "cell_type": "code",
   "execution_count": 64,
   "id": "daaf5b09-1454-4f6f-a56a-8d6f666b9c73",
   "metadata": {},
   "outputs": [
    {
     "data": {
      "text/plain": [
       "Beasiswa     1552\n",
       "Others       1302\n",
       "Orang Tua    1039\n",
       "Name: Biaya, dtype: int64"
      ]
     },
     "execution_count": 64,
     "metadata": {},
     "output_type": "execute_result"
    }
   ],
   "source": [
    "Cluster2[\"Biaya\"].value_counts()"
   ]
  },
  {
   "cell_type": "markdown",
   "id": "f7c6ed69-347a-480b-8297-0c98e4693515",
   "metadata": {},
   "source": [
    "## Status Alamat"
   ]
  },
  {
   "cell_type": "code",
   "execution_count": 65,
   "id": "796ea147-741a-4799-a22c-0509438404e0",
   "metadata": {},
   "outputs": [
    {
     "data": {
      "text/plain": [
       "<AxesSubplot:title={'center':'Frekuensi Alamat Cluster 2'}>"
      ]
     },
     "execution_count": 65,
     "metadata": {},
     "output_type": "execute_result"
    },
    {
     "data": {
      "image/png": "[encoded data removed]",
      "text/plain": [
       "<Figure size 432x288 with 1 Axes>"
      ]
     },
     "metadata": {
      "needs_background": "light"
     },
     "output_type": "display_data"
    }
   ],
   "source": [
    "Cluster2[\"Alamat\"].value_counts().plot(kind=\"bar\",title=\"Frekuensi Alamat Cluster 2\")"
   ]
  },
  {
   "cell_type": "code",
   "execution_count": 66,
   "id": "544fca83-c9dc-4c61-be85-65712469da36",
   "metadata": {},
   "outputs": [
    {
     "data": {
      "text/plain": [
       "Tangerang    689\n",
       "Serang       687\n",
       "Bekasi       659\n",
       "Karawang     658\n",
       "Bogor        633\n",
       "Jakarta      567\n",
       "Name: Alamat, dtype: int64"
      ]
     },
     "execution_count": 66,
     "metadata": {},
     "output_type": "execute_result"
    }
   ],
   "source": [
    "Cluster2[\"Alamat\"].value_counts()"
   ]
  },
  {
   "cell_type": "markdown",
   "id": "8ada4bde-92ca-4405-9541-ebe2294820f0",
   "metadata": {},
   "source": [
    "## Status UKM"
   ]
  },
  {
   "cell_type": "code",
   "execution_count": 67,
   "id": "85dc37f4-acc3-4ac9-9c30-0ec0aac02595",
   "metadata": {},
   "outputs": [
    {
     "data": {
      "text/plain": [
       "<AxesSubplot:title={'center':'Frekuensi UKM Cluster 2'}>"
      ]
     },
     "execution_count": 67,
     "metadata": {},
     "output_type": "execute_result"
    },
    {
     "data": {
      "image/png": "[encoded data removed]",
      "text/plain": [
       "<Figure size 432x288 with 1 Axes>"
      ]
     },
     "metadata": {
      "needs_background": "light"
     },
     "output_type": "display_data"
    }
   ],
   "source": [
    "Cluster2[\"UKM\"].value_counts().plot(kind=\"bar\",title=\"Frekuensi UKM Cluster 2\")"
   ]
  },
  {
   "cell_type": "code",
   "execution_count": 68,
   "id": "c30b88f3-d834-4216-9525-530e305a4ead",
   "metadata": {},
   "outputs": [
    {
     "data": {
      "text/plain": [
       "UKM_4    894\n",
       "UKM_3    786\n",
       "Tidak    783\n",
       "UKM_1    758\n",
       "UKM_2    672\n",
       "Name: UKM, dtype: int64"
      ]
     },
     "execution_count": 68,
     "metadata": {},
     "output_type": "execute_result"
    }
   ],
   "source": [
    "Cluster2[\"UKM\"].value_counts()"
   ]
  },
  {
   "cell_type": "markdown",
   "id": "102d5109-8d77-48bc-a4af-a2ec120d9eaf",
   "metadata": {},
   "source": [
    "## Status Organisasi Kampus"
   ]
  },
  {
   "cell_type": "code",
   "execution_count": 69,
   "id": "846d3bf7-3de6-4df7-8fc0-4b9bd6f547c5",
   "metadata": {},
   "outputs": [
    {
     "data": {
      "text/plain": [
       "<AxesSubplot:title={'center':'Frekuensi Organisasi_Kampus Cluster 2'}>"
      ]
     },
     "execution_count": 69,
     "metadata": {},
     "output_type": "execute_result"
    },
    {
     "data": {
      "image/png": "[encoded data removed]",
      "text/plain": [
       "<Figure size 432x288 with 1 Axes>"
      ]
     },
     "metadata": {
      "needs_background": "light"
     },
     "output_type": "display_data"
    }
   ],
   "source": [
    "Cluster2[\"Organisasi_Kampus\"].value_counts().plot(kind=\"bar\",title=\"Frekuensi Organisasi_Kampus Cluster 2\")"
   ]
  },
  {
   "cell_type": "code",
   "execution_count": 70,
   "id": "27296f33-616c-4351-8e52-b9d77b93be16",
   "metadata": {},
   "outputs": [
    {
     "data": {
      "text/plain": [
       "Tidak    2344\n",
       "Ya       1549\n",
       "Name: Organisasi_Kampus, dtype: int64"
      ]
     },
     "execution_count": 70,
     "metadata": {},
     "output_type": "execute_result"
    }
   ],
   "source": [
    "Cluster2[\"Organisasi_Kampus\"].value_counts()"
   ]
  },
  {
   "cell_type": "markdown",
   "id": "76035443-f48c-4ccb-826a-e7166427aff7",
   "metadata": {},
   "source": [
    "## Lama Kuliah"
   ]
  },
  {
   "cell_type": "code",
   "execution_count": 71,
   "id": "b75c3bc4-5a57-43bb-b3c7-dcbba580edf0",
   "metadata": {},
   "outputs": [
    {
     "data": {
      "image/png": "[encoded data removed]",
      "text/plain": [
       "<Figure size 432x288 with 1 Axes>"
      ]
     },
     "metadata": {
      "needs_background": "light"
     },
     "output_type": "display_data"
    }
   ],
   "source": [
    "# Boxplot Lama Kuliah\n",
    "plt.boxplot(Cluster2[\"Lama_Kuliah\"])\n",
    "plt.xlabel(\"Lama_Kuliah\")\n",
    "plt.ylabel(\"Value\")\n",
    "plt.title(\"Boxplot Lama Kuliah Cluster 2\")\n",
    "plt.show() "
   ]
  },
  {
   "cell_type": "markdown",
   "id": "30ebc5d7-47a4-4bac-abd8-40ce43767afc",
   "metadata": {},
   "source": [
    "# Cluster 3"
   ]
  },
  {
   "cell_type": "markdown",
   "id": "06ccf381-5fbd-4e76-bf91-b97eee2eb4e2",
   "metadata": {},
   "source": [
    "## Status Tinggal"
   ]
  },
  {
   "cell_type": "code",
   "execution_count": 72,
   "id": "4ee13e03-c3e4-4669-b2fb-ed185729c310",
   "metadata": {},
   "outputs": [
    {
     "data": {
      "text/plain": [
       "<AxesSubplot:title={'center':'Frekuensi Status Tinggal Cluster 3'}>"
      ]
     },
     "execution_count": 72,
     "metadata": {},
     "output_type": "execute_result"
    },
    {
     "data": {
      "image/png": "[encoded data removed]",
      "text/plain": [
       "<Figure size 432x288 with 1 Axes>"
      ]
     },
     "metadata": {
      "needs_background": "light"
     },
     "output_type": "display_data"
    }
   ],
   "source": [
    "# Persebaran cluster\n",
    "Cluster3[\"Tinggal_Dengan\"].value_counts().plot(kind=\"bar\",title=\"Frekuensi Status Tinggal Cluster 3\")"
   ]
  },
  {
   "cell_type": "code",
   "execution_count": 73,
   "id": "9b081be2-6c88-4f9b-a9e2-e7bc54111439",
   "metadata": {},
   "outputs": [
    {
     "data": {
      "text/plain": [
       "Others       1356\n",
       "Kos          1295\n",
       "Orang Tua    1258\n",
       "Name: Tinggal_Dengan, dtype: int64"
      ]
     },
     "execution_count": 73,
     "metadata": {},
     "output_type": "execute_result"
    }
   ],
   "source": [
    "Cluster3[\"Tinggal_Dengan\"].value_counts()"
   ]
  },
  {
   "cell_type": "markdown",
   "id": "ba338405-0e70-463e-9f26-beaf1377204d",
   "metadata": {},
   "source": [
    "## Status Kerja"
   ]
  },
  {
   "cell_type": "code",
   "execution_count": 74,
   "id": "7969ace8-4e24-4c9f-b5b2-c2870914445a",
   "metadata": {},
   "outputs": [
    {
     "data": {
      "text/plain": [
       "<AxesSubplot:title={'center':'Frekuensi Status Kerja Cluster 3'}>"
      ]
     },
     "execution_count": 74,
     "metadata": {},
     "output_type": "execute_result"
    },
    {
     "data": {
      "image/png": "[encoded data removed]",
      "text/plain": [
       "<Figure size 432x288 with 1 Axes>"
      ]
     },
     "metadata": {
      "needs_background": "light"
     },
     "output_type": "display_data"
    }
   ],
   "source": [
    "Cluster3[\"Status_Kerja\"].value_counts().plot(kind=\"bar\",title=\"Frekuensi Status Kerja Cluster 3\")"
   ]
  },
  {
   "cell_type": "code",
   "execution_count": 75,
   "id": "eba88e57-a9b1-4c28-87b6-dd16cc347ab8",
   "metadata": {},
   "outputs": [
    {
     "data": {
      "text/plain": [
       "Bekerja    2346\n",
       "Belum      1563\n",
       "Name: Status_Kerja, dtype: int64"
      ]
     },
     "execution_count": 75,
     "metadata": {},
     "output_type": "execute_result"
    }
   ],
   "source": [
    "Cluster3[\"Status_Kerja\"].value_counts()"
   ]
  },
  {
   "cell_type": "markdown",
   "id": "80855e2c-0bc1-4bfa-81bb-cd195672883d",
   "metadata": {},
   "source": [
    "## Biaya Kuliah"
   ]
  },
  {
   "cell_type": "code",
   "execution_count": 76,
   "id": "22ef576e-f969-4ffa-98e1-26f2f88911c4",
   "metadata": {},
   "outputs": [
    {
     "data": {
      "text/plain": [
       "<AxesSubplot:title={'center':'Frekuensi Status Biaya Cluster 3'}>"
      ]
     },
     "execution_count": 76,
     "metadata": {},
     "output_type": "execute_result"
    },
    {
     "data": {
      "image/png": "[encoded data removed]",
      "text/plain": [
       "<Figure size 432x288 with 1 Axes>"
      ]
     },
     "metadata": {
      "needs_background": "light"
     },
     "output_type": "display_data"
    }
   ],
   "source": [
    "Cluster3[\"Biaya\"].value_counts().plot(kind=\"bar\",title=\"Frekuensi Status Biaya Cluster 3\")"
   ]
  },
  {
   "cell_type": "code",
   "execution_count": 77,
   "id": "d17d60ce-b8e0-49c2-98e6-3eb46cb9c631",
   "metadata": {},
   "outputs": [
    {
     "data": {
      "text/plain": [
       "Orang Tua    1318\n",
       "Beasiswa     1310\n",
       "Others       1281\n",
       "Name: Biaya, dtype: int64"
      ]
     },
     "execution_count": 77,
     "metadata": {},
     "output_type": "execute_result"
    }
   ],
   "source": [
    "Cluster3[\"Biaya\"].value_counts()"
   ]
  },
  {
   "cell_type": "markdown",
   "id": "22f42a35-63e8-4cfc-976b-aa6ac844ba68",
   "metadata": {},
   "source": [
    "## Status Alamat"
   ]
  },
  {
   "cell_type": "code",
   "execution_count": 78,
   "id": "a13ea045-c36f-4fd2-9db1-db403f3b784e",
   "metadata": {},
   "outputs": [
    {
     "data": {
      "text/plain": [
       "<AxesSubplot:title={'center':'Frekuensi Alamat Cluster 3'}>"
      ]
     },
     "execution_count": 78,
     "metadata": {},
     "output_type": "execute_result"
    },
    {
     "data": {
      "image/png": "[encoded data removed]",
      "text/plain": [
       "<Figure size 432x288 with 1 Axes>"
      ]
     },
     "metadata": {
      "needs_background": "light"
     },
     "output_type": "display_data"
    }
   ],
   "source": [
    "Cluster3[\"Alamat\"].value_counts().plot(kind=\"bar\",title=\"Frekuensi Alamat Cluster 3\")"
   ]
  },
  {
   "cell_type": "code",
   "execution_count": 79,
   "id": "380d1c4b-c4bd-4035-8c22-3065cd58aa38",
   "metadata": {},
   "outputs": [
    {
     "data": {
      "text/plain": [
       "Bogor        668\n",
       "Karawang     666\n",
       "Serang       662\n",
       "Bekasi       657\n",
       "Jakarta      630\n",
       "Tangerang    626\n",
       "Name: Alamat, dtype: int64"
      ]
     },
     "execution_count": 79,
     "metadata": {},
     "output_type": "execute_result"
    }
   ],
   "source": [
    "Cluster3[\"Alamat\"].value_counts()"
   ]
  },
  {
   "cell_type": "markdown",
   "id": "591351c2-901b-46bb-8eec-a2e0a7d71ac3",
   "metadata": {},
   "source": [
    "## Status UKM"
   ]
  },
  {
   "cell_type": "code",
   "execution_count": 80,
   "id": "042dbe30-be22-4f76-a2e9-f7d1e89bffd6",
   "metadata": {},
   "outputs": [
    {
     "data": {
      "text/plain": [
       "<AxesSubplot:title={'center':'Frekuensi UKM Cluster 3'}>"
      ]
     },
     "execution_count": 80,
     "metadata": {},
     "output_type": "execute_result"
    },
    {
     "data": {
      "image/png": "[encoded data removed]",
      "text/plain": [
       "<Figure size 432x288 with 1 Axes>"
      ]
     },
     "metadata": {
      "needs_background": "light"
     },
     "output_type": "display_data"
    }
   ],
   "source": [
    "Cluster3[\"UKM\"].value_counts().plot(kind=\"bar\",title=\"Frekuensi UKM Cluster 3\")"
   ]
  },
  {
   "cell_type": "code",
   "execution_count": 81,
   "id": "5dce909a-fe8a-444e-b4db-a64fc8f44a30",
   "metadata": {},
   "outputs": [
    {
     "data": {
      "text/plain": [
       "Tidak    900\n",
       "UKM_4    792\n",
       "UKM_3    790\n",
       "UKM_1    784\n",
       "UKM_2    643\n",
       "Name: UKM, dtype: int64"
      ]
     },
     "execution_count": 81,
     "metadata": {},
     "output_type": "execute_result"
    }
   ],
   "source": [
    "Cluster3[\"UKM\"].value_counts()"
   ]
  },
  {
   "cell_type": "markdown",
   "id": "a9da1a16-40fd-4e1e-808a-ac0b8e5ae02e",
   "metadata": {},
   "source": [
    "## Status Organisasi Kampus"
   ]
  },
  {
   "cell_type": "code",
   "execution_count": 82,
   "id": "4574fba9-5203-4008-9581-8488a5b275f8",
   "metadata": {},
   "outputs": [
    {
     "data": {
      "text/plain": [
       "<AxesSubplot:title={'center':'Frekuensi Organisasi_Kampus Cluster 3'}>"
      ]
     },
     "execution_count": 82,
     "metadata": {},
     "output_type": "execute_result"
    },
    {
     "data": {
      "image/png": "[encoded data removed]",
      "text/plain": [
       "<Figure size 432x288 with 1 Axes>"
      ]
     },
     "metadata": {
      "needs_background": "light"
     },
     "output_type": "display_data"
    }
   ],
   "source": [
    "Cluster3[\"Organisasi_Kampus\"].value_counts().plot(kind=\"bar\",title=\"Frekuensi Organisasi_Kampus Cluster 3\")"
   ]
  },
  {
   "cell_type": "code",
   "execution_count": 83,
   "id": "dea357ef-63fa-42c2-baaa-2a2919abd422",
   "metadata": {},
   "outputs": [
    {
     "data": {
      "text/plain": [
       "Tidak    2295\n",
       "Ya       1614\n",
       "Name: Organisasi_Kampus, dtype: int64"
      ]
     },
     "execution_count": 83,
     "metadata": {},
     "output_type": "execute_result"
    }
   ],
   "source": [
    "Cluster3[\"Organisasi_Kampus\"].value_counts()"
   ]
  },
  {
   "cell_type": "markdown",
   "id": "99d3cff3-4e84-4dbd-af1c-aa88fc8e83b9",
   "metadata": {},
   "source": [
    "## Lama Kuliah"
   ]
  },
  {
   "cell_type": "code",
   "execution_count": 84,
   "id": "b994b971-974c-475f-8b41-a281d7289741",
   "metadata": {},
   "outputs": [
    {
     "data": {
      "image/png": "[encoded data removed]",
      "text/plain": [
       "<Figure size 432x288 with 1 Axes>"
      ]
     },
     "metadata": {
      "needs_background": "light"
     },
     "output_type": "display_data"
    }
   ],
   "source": [
    "# Boxplot Lama Kuliah\n",
    "plt.boxplot(Cluster3[\"Lama_Kuliah\"])\n",
    "plt.xlabel(\"Lama_Kuliah\")\n",
    "plt.ylabel(\"Value\")\n",
    "plt.title(\"Boxplot Lama Kuliah Cluster 3\")\n",
    "plt.show() "
   ]
  },
  {
   "cell_type": "markdown",
   "id": "b24e7b1f-78a7-48f0-b302-ae845bcec63b",
   "metadata": {},
   "source": [
    "# Export File"
   ]
  },
  {
   "cell_type": "code",
   "execution_count": 85,
   "id": "074533a8-a1cf-4736-b37d-b2e5e56674fd",
   "metadata": {},
   "outputs": [],
   "source": [
    "# Export to excel\n",
    "Cluster1.to_excel(\"Cluster 1.xlsx\", index = False)  "
   ]
  },
  {
   "cell_type": "code",
   "execution_count": 86,
   "id": "124d0db9-cf76-4bbf-bbba-2bff2489a21d",
   "metadata": {},
   "outputs": [],
   "source": [
    "# Export to excel\n",
    "Cluster2.to_excel(\"Cluster 2.xlsx\", index = False)  "
   ]
  },
  {
   "cell_type": "code",
   "execution_count": 87,
   "id": "d1fd4108-dbcf-47f0-94d8-db79bc23e2cf",
   "metadata": {},
   "outputs": [],
   "source": [
    "# Export to excel\n",
    "Cluster3.to_excel(\"Cluster 3.xlsx\", index = False)  "
   ]
  },
  {
   "cell_type": "code",
   "execution_count": 88,
   "id": "17321bc0-0389-4d4a-bd57-d12fa4eec1d3",
   "metadata": {},
   "outputs": [],
   "source": [
    "# Export to excel\n",
    "df.to_excel(\"Data Clustered.xlsx\", index = False)  "
   ]
  }
 ],
 "metadata": {
  "colab": {
   "provenance": [],
   "toc_visible": true
  },
  "kernelspec": {
   "display_name": "Python 3 (ipykernel)",
   "language": "python",
   "name": "python3"
  },
  "language_info": {
   "codemirror_mode": {
    "name": "ipython",
    "version": 3
   },
   "file_extension": ".py",
   "mimetype": "text/x-python",
   "name": "python",
   "nbconvert_exporter": "python",
   "pygments_lexer": "ipython3",
   "version": "3.9.10"
  },
  "toc-autonumbering": true,
  "toc-showcode": false,
  "toc-showmarkdowntxt": false,
  "toc-showtags": false
 },
 "nbformat": 4,
 "nbformat_minor": 5
}
